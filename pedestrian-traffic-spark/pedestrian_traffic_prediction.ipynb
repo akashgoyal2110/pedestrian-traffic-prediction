{
 "cells": [
  {
   "cell_type": "markdown",
   "metadata": {},
   "source": [
    "# FIT5202 Data processing for Big data\n",
    "\n",
    "##  Assignment 2A: Building models to predict pedestrian traffic\n",
    "\n",
    "Author: **Akash Goyal**<br>\n",
    "Date: **31-01-2021**\n",
    "\n",
    "<br>\n",
    "\n",
    "## Table of Contents\n",
    "\n",
    "* [Libraries used](#lib)\n",
    "* [Introduction](#intro)\n",
    "* [1. Data Loading and Exploration](#one)\n",
    "    * [1.1 Data Loading](#1.1)\n",
    "        * [Part 1.1.1](#1.1.1)\n",
    "        * [Part 1.1.2](#1.1.2)\n",
    "        * [Part 1.1.3](#1.1.3)\n",
    "        * [Part 1.1.4](#1.1.4)\n",
    "    * [1.2 Exploring the data](#1.2)\n",
    "        * [Part 1.2.1](#1.2.1)\n",
    "        * [Part 1.2.2](#1.2.2)\n",
    "        * [Part 1.2.3](#1.2.3)\n",
    "        * [Part 1.2.4](#1.2.4)\n",
    "* [2. Feature extraction and ML training](#two)\n",
    "    * [2.1 Discuss the feature selection and prepare the feature columns](#2.1)\n",
    "        * [Part 2.1.1](#2.1.1)\n",
    "        * [Part 2.1.2](#2.1.2)\n",
    "    * [2.2 Preparing Spark ML Transformers/Estimators for features, labels and models](#2.2)\n",
    "        * [Part 2.2.1](#2.2.1)\n",
    "        * [Part 2.2.2](#2.2.2)\n",
    "        * [Part 2.2.3](#2.2.3)\n",
    "    * [2.3 Preparing the training data and testing data](#2.3)\n",
    "        * [Part 2.3.1](#2.3.1)\n",
    "    * [2.4 Training and evaluating models](#2.4)\n",
    "        * [Usecase-1](#u1)\n",
    "            * [Part 2.4.1](#2.4.1)\n",
    "            * [Part 2.4.2](#2.4.2)\n",
    "            * [Part 2.4.3](#2.4.3)\n",
    "            * [Part 2.4.4](#2.4.4)\n",
    "        * [Usecase-2](#u2)\n",
    "            * [Part 2.4.5](#2.4.5)\n",
    "            * [Part 2.4.6](#2.4.6)\n",
    "* [3. Performance comparison](#three)\n",
    "    * [3.1 KMeans Clustering](#3.1)\n",
    "    * [3.2 Parallelism Theory Analysis](#3.2)"
   ]
  },
  {
   "cell_type": "markdown",
   "metadata": {},
   "source": [
    "## Libraries used <a class=\"anchor\" name=\"lib\"></a>"
   ]
  },
  {
   "cell_type": "markdown",
   "metadata": {},
   "source": [
    "This section contains all the libraries that would be needed to complete this assignment"
   ]
  },
  {
   "cell_type": "code",
   "execution_count": 64,
   "metadata": {},
   "outputs": [],
   "source": [
    "# Import SparkConf class into program\n",
    "from pyspark import SparkConf\n",
    "\n",
    "# Import SparkContext and SparkSession classes\n",
    "from pyspark import SparkContext # Spark\n",
    "from pyspark.sql import SparkSession # Spark SQL\n",
    "\n",
    "# Libraries or visualization\n",
    "import numpy as np\n",
    "import matplotlib.pyplot as plt\n",
    "import pandas as pd\n",
    "\n",
    "# For peforming regex operations\n",
    "import re\n",
    "\n",
    "# This part will install the seaborn package if there is an error \n",
    "try:\n",
    "    import seaborn as sns\n",
    "except:\n",
    "    !pip install seaborn\n",
    "\n",
    "# To be able to use the sql functions\n",
    "from pyspark.sql.functions import *\n",
    "\n",
    "# To be able to use windowing functions on Pyspark Dataframe\n",
    "from pyspark.sql.window import Window as w\n",
    "\n",
    "# Spark Datatypes in order to creating schema for Spark DataFrame\n",
    "from pyspark.sql.types import TimestampType\n",
    "from pyspark.sql.types import DateType\n",
    "from pyspark.sql.types import DoubleType\n",
    "from pyspark.sql.types import StructType\n",
    "from pyspark.sql.types import StringType\n",
    "from pyspark.sql.types import IntegerType\n",
    "from pyspark.sql.types import FloatType\n",
    "from pyspark.sql.types import StructField\n",
    "\n",
    "# For Modelling\n",
    "from pyspark.ml import Pipeline\n",
    "from pyspark.ml.feature import StringIndexer\n",
    "from pyspark.ml.feature import OneHotEncoder\n",
    "from pyspark.ml.feature import VectorAssembler\n",
    "from pyspark.ml.classification import DecisionTreeClassifier\n",
    "from pyspark.ml.regression import DecisionTreeRegressor\n",
    "from pyspark.ml.classification import GBTClassifier\n",
    "from pyspark.ml.regression import GBTRegressor\n",
    "\n",
    "# To get the evaluation metrics\n",
    "from pyspark.ml.evaluation import BinaryClassificationEvaluator\n",
    "from pyspark.ml.evaluation import RegressionEvaluator"
   ]
  },
  {
   "cell_type": "markdown",
   "metadata": {},
   "source": [
    "## Introduction <a class=\"anchor\" name=\"intro\"></a>"
   ]
  },
  {
   "cell_type": "markdown",
   "metadata": {},
   "source": [
    "This assignment deals with the exploration of the pedestrian count open data form the City of Melbourne. As the data is huge there will be a need to use the big data tools to analyze it in an efficient manner. We will use the Pyspark's Dataframe and MLLib APIs to perform analysis and modelling to predict the required data."
   ]
  },
  {
   "cell_type": "markdown",
   "metadata": {},
   "source": [
    "## 1.Data Loading and exploration <a class=\"anchor\" name=\"one\"></a>"
   ]
  },
  {
   "cell_type": "markdown",
   "metadata": {},
   "source": [
    "In this section we will perform the analysis using the RDDs."
   ]
  },
  {
   "cell_type": "markdown",
   "metadata": {},
   "source": [
    "## 1.1 Data Loading <a class=\"anchor\" name=\"1.1\"></a>"
   ]
  },
  {
   "cell_type": "markdown",
   "metadata": {},
   "source": [
    "## Part 1.1.1 <a class=\"anchor\" name=\"1.1.1\"></a>"
   ]
  },
  {
   "cell_type": "markdown",
   "metadata": {},
   "source": [
    "In this section we were required to create the spark context from the Spark Session. So in the below code it can be seen that the first the configurations for the spark sessionobject has been created. The configurations that have been set here are:\n",
    "* The number of cores/processors that we want to use. This is set in a **master** variable. In the below case **local[\\*]** has been used which means that all the processors that are there in the machine need to be used.\n",
    "* Next we need to set the appropriate application name.\n",
    "\n",
    "Using the above configuration values we can create a spark session object. But it is also required to set the UTC time-zone. To set this we need to make changes to the property **spark.sql.session.timeZone**. We need to set 'UTC' to the property as shown in the code below.\n",
    "\n",
    "After this finally the spark context object can be created and then the log level can be set to **ERROR** so that not a lot of log generation takes place."
   ]
  },
  {
   "cell_type": "code",
   "execution_count": 65,
   "metadata": {},
   "outputs": [],
   "source": [
    "# For selecting all the cores in the machine\n",
    "master = \"local[*]\"\n",
    "\n",
    "# Putting the Application name\n",
    "app_name = \"Assignment2A-Building models to predict pedestrian traffic\"\n",
    "\n",
    "# Setting up the configuration parameters for Spark\n",
    "spark_conf = SparkConf().setMaster(master).setAppName(app_name)\n",
    "\n",
    "# Using SparkSession\n",
    "spark = SparkSession.builder.config(conf=spark_conf).config('spark.sql.session.timeZone', 'UTC').getOrCreate()\n",
    "sc = spark.sparkContext\n",
    "sc.setLogLevel('ERROR')"
   ]
  },
  {
   "cell_type": "markdown",
   "metadata": {},
   "source": [
    "## Part 1.1.2 <a class=\"anchor\" name=\"1.1.2\"></a>"
   ]
  },
  {
   "cell_type": "markdown",
   "metadata": {},
   "source": [
    "In this part of the assignment it is required to load the given data in 2 CSV files into Spark DataFrames with appropriate schema as given in the metadata file."
   ]
  },
  {
   "cell_type": "markdown",
   "metadata": {},
   "source": [
    "For this first we need to create the schema according to the metadata file with the exception of **location** column in the pedestrian data file. The schema can be created using the **StructType()** and the **StructField()** functions.\n",
    "the complete schema for each dataframe would be created inside the StructType() function and to add a new field and its datatype the StructField datatype is used."
   ]
  },
  {
   "cell_type": "markdown",
   "metadata": {},
   "source": [
    "Below is the schema for the pedestrian and sensor data with the appropriate datatypes as mentioned in the metadata file."
   ]
  },
  {
   "cell_type": "code",
   "execution_count": 66,
   "metadata": {},
   "outputs": [],
   "source": [
    "# Schema for the pedestrian data\n",
    "schema_pdstrn_count_df = StructType([\n",
    "    StructField(\"ID\", IntegerType()),\n",
    "    StructField(\"Date_Time\", TimestampType()),\n",
    "    StructField(\"Year\", IntegerType()),\n",
    "    StructField(\"Month\", StringType()),\n",
    "    StructField(\"Mdate\", IntegerType()),\n",
    "    StructField(\"Day\", StringType()),\n",
    "    StructField(\"Time\", IntegerType()),\n",
    "    StructField(\"Sensor_ID\", IntegerType()),\n",
    "    StructField(\"Sensor_Name\", StringType()),\n",
    "    StructField(\"Hourly_Counts\", IntegerType())\n",
    "])\n",
    "\n",
    "# Schema for the sensor data\n",
    "schema_sensor_data_df = StructType([\n",
    "    StructField(\"sensor_id\", IntegerType()),\n",
    "    StructField(\"sensor_description\", StringType()),\n",
    "    StructField(\"sensor_name\", StringType()),\n",
    "    StructField(\"installation_date\", DateType()),\n",
    "    StructField(\"status\", StringType()),\n",
    "    StructField(\"note\", StringType()),\n",
    "    StructField(\"direction_1\", StringType()),\n",
    "    StructField(\"direction_2\", StringType()),\n",
    "    StructField(\"latitude\", FloatType()),\n",
    "    StructField(\"longitude\", FloatType()),\n",
    "    StructField(\"location\", StringType())\n",
    "])"
   ]
  },
  {
   "cell_type": "markdown",
   "metadata": {},
   "source": [
    "\n",
    "## Part 1.1.3 <a class=\"anchor\" name=\"1.1.3\"></a>"
   ]
  },
  {
   "cell_type": "markdown",
   "metadata": {},
   "source": [
    "Now that the schema has been created for the pedestrian data, the dataframe can be created. For this we will use Spark's **read.csv()** function, which will take the **file location, header and schema** as parameters. The header parameter can be provided with **'true'** value as the header is present in the data.\n",
    "\n",
    "The **option()** function has been used:\n",
    "* To make sure the first row is read as header\n",
    "* \" character is escaped while parsing\n",
    "* To parse the timestamp column while loading the file itself."
   ]
  },
  {
   "cell_type": "code",
   "execution_count": 67,
   "metadata": {},
   "outputs": [],
   "source": [
    "# Loading the pedestrian data\n",
    "pdstrn_count_spdf = spark.read.format('csv').schema(schema_pdstrn_count_df)\\\n",
    "                         .option('header',True).option('escape','\"').option(\"timestampFormat\",'MM/dd/yyyy hh:mm:ss a')\\\n",
    "                         .load('Pedestrian_Counting_System_-_Monthly__counts_per_hour.csv')"
   ]
  },
  {
   "cell_type": "markdown",
   "metadata": {},
   "source": [
    "Now that the schema has been created for the sensor data, the dataframe can be created. For this we will use Spark's **read.csv()** function, which will take the **file location, header and schema** as parameters. The header parameter can be provided with **'true'** value as the header is present in the data.\n",
    "\n",
    "The **option()** function has been used:\n",
    "* To make sure the first row is read as header\n",
    "* \" character is escaped while parsing\n",
    "* To parse the date column while loading the file itself."
   ]
  },
  {
   "cell_type": "code",
   "execution_count": 68,
   "metadata": {},
   "outputs": [],
   "source": [
    "# Loading the sensor data\n",
    "sensor_spdf = spark.read.format('csv').schema(schema_sensor_data_df)\\\n",
    "                         .option('header',True).option('escape','\"').option(\"dateFormat\",'yyyy/MM/dd')\\\n",
    "                         .load('Pedestrian_Counting_System_-_Sensor_Locations.csv')"
   ]
  },
  {
   "cell_type": "code",
   "execution_count": 69,
   "metadata": {},
   "outputs": [
    {
     "name": "stdout",
     "output_type": "stream",
     "text": [
      "root\n",
      " |-- ID: integer (nullable = true)\n",
      " |-- Date_Time: timestamp (nullable = true)\n",
      " |-- Year: integer (nullable = true)\n",
      " |-- Month: string (nullable = true)\n",
      " |-- Mdate: integer (nullable = true)\n",
      " |-- Day: string (nullable = true)\n",
      " |-- Time: integer (nullable = true)\n",
      " |-- Sensor_ID: integer (nullable = true)\n",
      " |-- Sensor_Name: string (nullable = true)\n",
      " |-- Hourly_Counts: integer (nullable = true)\n",
      "\n"
     ]
    }
   ],
   "source": [
    "# Displaying the schema for pedestrian data\n",
    "pdstrn_count_spdf.printSchema()"
   ]
  },
  {
   "cell_type": "code",
   "execution_count": 70,
   "metadata": {},
   "outputs": [
    {
     "name": "stdout",
     "output_type": "stream",
     "text": [
      "root\n",
      " |-- sensor_id: integer (nullable = true)\n",
      " |-- sensor_description: string (nullable = true)\n",
      " |-- sensor_name: string (nullable = true)\n",
      " |-- installation_date: date (nullable = true)\n",
      " |-- status: string (nullable = true)\n",
      " |-- note: string (nullable = true)\n",
      " |-- direction_1: string (nullable = true)\n",
      " |-- direction_2: string (nullable = true)\n",
      " |-- latitude: float (nullable = true)\n",
      " |-- longitude: float (nullable = true)\n",
      " |-- location: string (nullable = true)\n",
      "\n"
     ]
    }
   ],
   "source": [
    "# Displaying the schema for sensor data\n",
    "sensor_spdf.printSchema()"
   ]
  },
  {
   "cell_type": "markdown",
   "metadata": {},
   "source": [
    "## Part 1.1.4 <a class=\"anchor\" name=\"1.1.4\"></a>"
   ]
  },
  {
   "cell_type": "markdown",
   "metadata": {},
   "source": [
    "In this part the **above_threshold** column needs to be added. If the value of Hourly_Counts column would be above 2000 then the value will be '1' else it will be '0'. The column has been given string values purposefully, so that later it can be string indexed and proper process can be followed."
   ]
  },
  {
   "cell_type": "code",
   "execution_count": 71,
   "metadata": {},
   "outputs": [],
   "source": [
    "# Adding the column above_threshold which has the labels '0' and '1'\n",
    "# String '0' and '1' has been purposefully used here\n",
    "pdstrn_count_spdf = pdstrn_count_spdf.withColumn('above_threshold',when(col(\"Hourly_Counts\") >= 2000, '1').otherwise('0'))"
   ]
  },
  {
   "cell_type": "code",
   "execution_count": 72,
   "metadata": {},
   "outputs": [
    {
     "name": "stdout",
     "output_type": "stream",
     "text": [
      "root\n",
      " |-- ID: integer (nullable = true)\n",
      " |-- Date_Time: timestamp (nullable = true)\n",
      " |-- Year: integer (nullable = true)\n",
      " |-- Month: string (nullable = true)\n",
      " |-- Mdate: integer (nullable = true)\n",
      " |-- Day: string (nullable = true)\n",
      " |-- Time: integer (nullable = true)\n",
      " |-- Sensor_ID: integer (nullable = true)\n",
      " |-- Sensor_Name: string (nullable = true)\n",
      " |-- Hourly_Counts: integer (nullable = true)\n",
      " |-- above_threshold: string (nullable = false)\n",
      "\n"
     ]
    }
   ],
   "source": [
    "pdstrn_count_spdf.printSchema()"
   ]
  },
  {
   "cell_type": "markdown",
   "metadata": {},
   "source": [
    "Seeing the above schema of the dataframe it can be easily seen that the **above_thresold** column has been successfully added."
   ]
  },
  {
   "cell_type": "markdown",
   "metadata": {},
   "source": [
    "## 1.2 Exploring the data <a class=\"anchor\" name=\"1.2\"></a>"
   ]
  },
  {
   "cell_type": "markdown",
   "metadata": {},
   "source": [
    "In this part of the assignment we will explore the data so that we understand the crux of the data and are able to analyse it properly. Also, this exploration might help us to identify important features which can further be used to prepare the prediction model."
   ]
  },
  {
   "cell_type": "markdown",
   "metadata": {},
   "source": [
    "## Part 1.2.1 <a class=\"anchor\" name=\"1.2.1\"></a>"
   ]
  },
  {
   "cell_type": "markdown",
   "metadata": {},
   "source": [
    "The first thing to do to understand the data is to see the summary of the data. The summary would tell us the basics of the data like:\n",
    "* The count of the rows where the data is not null.\n",
    "* The mean of the values of the columns.\n",
    "* The standard deviation value of the respective columns.\n",
    "* The minimum and maximum value of the column\n",
    "* The 25, 50, 75 percentile values for the respective columns.\n",
    "\n",
    "The summary for all the columns needs to be generated except for above_threshold and Date_Time column.\n",
    "\n",
    "**Note: The ID column would also not be available in the summary as we aggregated the data earlier and laso the ID column does not contain any useful information as it will be unique for each row.**"
   ]
  },
  {
   "cell_type": "markdown",
   "metadata": {},
   "source": [
    "The summary for the dataframe is being displayed using the below function **get_summary_stats()**."
   ]
  },
  {
   "cell_type": "code",
   "execution_count": 73,
   "metadata": {},
   "outputs": [],
   "source": [
    "def get_summary_stats(input_df):\n",
    "    '''\n",
    "    This function is used to display the summary as required in the question.\n",
    "    The input params:\n",
    "    1. input_df - Input dataframe whose summary needs to be found\n",
    "    '''\n",
    "    \n",
    "    # Getting the summary for the integer or float columnsfor the input datafame using the summary()\n",
    "    # function\n",
    "    input_df.select(*[item[0] for item in pdstrn_count_spdf.dtypes \\\n",
    "                      if (item[1].startswith('int') or item[1].startswith('float'))])\\\n",
    "                        .summary().show()\n",
    "    "
   ]
  },
  {
   "cell_type": "code",
   "execution_count": 74,
   "metadata": {},
   "outputs": [
    {
     "name": "stdout",
     "output_type": "stream",
     "text": [
      "+-------+-----------------+------------------+------------------+------------------+------------------+-----------------+\n",
      "|summary|               ID|              Year|             Mdate|              Time|         Sensor_ID|    Hourly_Counts|\n",
      "+-------+-----------------+------------------+------------------+------------------+------------------+-----------------+\n",
      "|  count|          3435106|           3435106|           3435106|           3435106|           3435106|          3435106|\n",
      "|   mean|        1717553.5|2016.0032330880038|15.751918863639142|11.459955238644746|22.978422791028866|560.7805942524044|\n",
      "| stddev|991629.8312350252|3.1237869143646275|  8.79918757461428| 6.943473866829414|16.229792156265397|809.9942576353371|\n",
      "|    min|                1|              2009|                 1|                 0|                 1|                0|\n",
      "|    25%|           858830|              2014|                 8|                 5|                 9|               50|\n",
      "|    50%|          1717623|              2016|                16|                11|                19|              210|\n",
      "|    75%|          2576510|              2019|                23|                17|                34|              722|\n",
      "|    max|          3435106|              2020|                31|                23|                71|            15979|\n",
      "+-------+-----------------+------------------+------------------+------------------+------------------+-----------------+\n",
      "\n"
     ]
    }
   ],
   "source": [
    "get_summary_stats(pdstrn_count_spdf)"
   ]
  },
  {
   "cell_type": "markdown",
   "metadata": {},
   "source": [
    "## Part 1.2.2 <a class=\"anchor\" name=\"1.2.2\"></a>"
   ]
  },
  {
   "cell_type": "code",
   "execution_count": 75,
   "metadata": {},
   "outputs": [
    {
     "name": "stdout",
     "output_type": "stream",
     "text": [
      "+---------------+-------+\n",
      "|above_threshold|  count|\n",
      "+---------------+-------+\n",
      "|              0|3184164|\n",
      "|              1| 250942|\n",
      "+---------------+-------+\n",
      "\n"
     ]
    }
   ],
   "source": [
    "pdstrn_count_spdf.groupBy('above_threshold').count().show()"
   ]
  },
  {
   "cell_type": "markdown",
   "metadata": {},
   "source": [
    "The above situation that we are looking at is called an **Imbalanced Class** situation where only **7.3%**(approx.) records are above the threshold i.e. the value for **above_threshold** is '1'.\n",
    "\n",
    "### Impact on classification\n",
    "If we create a classification model which tells that by-default that all records are below the threshold of 2000 then it will still give us **93%** accuracy which some people might think is very good, but actually that would be a very bad model. And the way to assess the models dealing with imbalance classes is through **sensitivity**(or **recall**), **specificity**, **precision** and **F1** score. The normal accuracy can be very misleading in the case of imbalanced classes."
   ]
  },
  {
   "cell_type": "markdown",
   "metadata": {},
   "source": [
    "## Part 1.2.3 <a class=\"anchor\" name=\"1.2.3\"></a>"
   ]
  },
  {
   "cell_type": "markdown",
   "metadata": {},
   "source": [
    "In this part we need to plot the graphs to understand the data further by making two plots:\n",
    "* A histogram plots of the Hourly_Counts column\n",
    "* Plotting the average daily count"
   ]
  },
  {
   "cell_type": "code",
   "execution_count": 76,
   "metadata": {},
   "outputs": [],
   "source": [
    "plot_df = pdstrn_count_spdf.select('Hourly_Counts').toPandas()"
   ]
  },
  {
   "cell_type": "code",
   "execution_count": 77,
   "metadata": {},
   "outputs": [
    {
     "data": {
      "text/plain": [
       "Text(0.5, 1.02, 'Histogram for the column Hourly_Counts')"
      ]
     },
     "execution_count": 77,
     "metadata": {},
     "output_type": "execute_result"
    },
    {
     "data": {
      "image/png": "[encoded data removed]",
      "text/plain": [
       "<Figure size 432x288 with 1 Axes>"
      ]
     },
     "metadata": {
      "needs_background": "light"
     },
     "output_type": "display_data"
    }
   ],
   "source": [
    "plot_df.hist(bins=15)\n",
    "plt.yscale('log') #, nonpositive='clip'\n",
    "plt.suptitle('Histogram for the column Hourly_Counts',x=0.5, y=1.02, fontsize='x-large')"
   ]
  },
  {
   "cell_type": "markdown",
   "metadata": {},
   "source": [
    "As it can be clearly seen that this plot is right skewed and therefore it does not follow a gaussian distribution. The **Hourly_Counts** values are mostly in the range of 0-6000(approx.) and therefore the partitions for the dataframe should not be done on the basis of the range of the Hourly_Counts column. "
   ]
  },
  {
   "cell_type": "markdown",
   "metadata": {},
   "source": [
    "For creating the next plot it will be useful to create two more column in the dataframe:\n",
    "* MonthNum - The numerical value for the month.\n",
    "* DayofWeek - Thiscolumn contains the Day of the week as a numerical value.\n",
    "\n",
    "These column would come handy to order axis/legends in the visualization."
   ]
  },
  {
   "cell_type": "code",
   "execution_count": 78,
   "metadata": {},
   "outputs": [],
   "source": [
    "# Creating the column to get the numerical value for the Month\n",
    "# and day of week for the date\n",
    "pdstrn_count_spdf = pdstrn_count_spdf.withColumn('MonthNum', month(pdstrn_count_spdf.Date_Time))\\\n",
    "                                    .withColumn('DayofWeek',dayofweek(col(\"Date_Time\")))"
   ]
  },
  {
   "cell_type": "code",
   "execution_count": 79,
   "metadata": {},
   "outputs": [],
   "source": [
    "# Aggregating the data for Year, Month, MonthNum, Mdate and getting the sum\n",
    "pdstrn_count_spdf_lp = pdstrn_count_spdf.groupBy(['Year','Month','MonthNum','Mdate']).agg(sum(col('Hourly_Counts'))\\\n",
    "                                          .alias('Total_Counts'))"
   ]
  },
  {
   "cell_type": "code",
   "execution_count": 80,
   "metadata": {},
   "outputs": [],
   "source": [
    "# Aggregating the data for Month and getting the average\n",
    "pdstrn_count_spdf_lp = pdstrn_count_spdf_lp.groupBy(['Month','MonthNum']).agg(mean(col('Total_Counts'))\\\n",
    "                                          .alias('Average Daily Count'))\\\n",
    "                                          .orderBy(['MonthNum'])\n",
    "\n",
    "# Converting the data to Pandas to use it for visualization\n",
    "pdstrn_count_df_lp = pdstrn_count_spdf_lp.toPandas()"
   ]
  },
  {
   "cell_type": "code",
   "execution_count": 81,
   "metadata": {},
   "outputs": [
    {
     "data": {
      "image/png": "[encoded data removed]",
      "text/plain": [
       "<Figure size 720x576 with 1 Axes>"
      ]
     },
     "metadata": {
      "needs_background": "light"
     },
     "output_type": "display_data"
    }
   ],
   "source": [
    "# Setting the plot size\n",
    "plt.figure(figsize=(10,8))\n",
    "\n",
    "# Creating line plot using the seaborn package\n",
    "sns.lineplot(data=pdstrn_count_df_lp, x='Month', y='Average Daily Count', marker=\"o\")\\\n",
    "   .set_title('Line plot for Average Daily Count by Month')\n",
    "\n",
    "# Rotating the x-axis labels to 60 degree\n",
    "lplot = plt.xticks(rotation=60)\n",
    "\n",
    "# plt.suptitle('Line plot for Average Daily Count by Month',x=0.5, y=1.02, fontsize='x-large')"
   ]
  },
  {
   "cell_type": "markdown",
   "metadata": {},
   "source": [
    "### Observations\n",
    "\n",
    "Here the observations have been stated according to the above plot:\n",
    "* The average daily pedestrian counts are the highest in the months February and March.\n",
    "* After March the average daily pedestrian counts would start decreasing and remain low till August. the reason for this may be that from April a bit of cold winds start and it starts getting slightly colder. It gets a lot colder till August thats why the count remains low.\n",
    "* After the winters end and Spring starts from September the counts again start rising and rise till December."
   ]
  },
  {
   "cell_type": "markdown",
   "metadata": {},
   "source": [
    "## Part 1.2.4 <a class=\"anchor\" name=\"1.2.4\"></a>"
   ]
  },
  {
   "cell_type": "markdown",
   "metadata": {},
   "source": [
    "Some more plots are required now to get more understanding about the data so that the modelling can be done in a well informed manner. We should try to look at "
   ]
  },
  {
   "cell_type": "code",
   "execution_count": 82,
   "metadata": {},
   "outputs": [],
   "source": [
    "# Aggregating the data by Year, Month, Mdate, day, Sensor_Name and getting the sum\n",
    "agg_day_sensor_df = pdstrn_count_spdf.groupBy(['Year','Month','Mdate','Day','DayofWeek','Sensor_Name'])\\\n",
    "                                     .agg(sum(col('Hourly_Counts'))\\\n",
    "                                     .alias('Total Pedestrian Counts'))\n",
    "\n",
    "# Aggregating the data by Day, Sensor_Name and getting the mean\n",
    "# and ordering by DayofWeek in ascending and average pedestrian counts in a descending manner\n",
    "agg_day_sensor_df = agg_day_sensor_df.groupBy(['Day','DayofWeek','Sensor_Name']).agg(mean(col('Total Pedestrian Counts'))\\\n",
    "                                          .alias('Average Pedestrian Counts'))\\\n",
    "                                          .filter(col('Average Pedestrian Counts') >= 35000)\\\n",
    "                                          .orderBy(col('DayofWeek'),-col('Average Pedestrian Counts'))\n",
    "\n",
    "# Converting the data into Pandas datafarame to make visualization easier\n",
    "agg_day_sensor_df = agg_day_sensor_df.toPandas()"
   ]
  },
  {
   "cell_type": "code",
   "execution_count": 83,
   "metadata": {},
   "outputs": [
    {
     "data": {
      "text/plain": [
       "<matplotlib.legend.Legend at 0x7f4b11ddee50>"
      ]
     },
     "execution_count": 83,
     "metadata": {},
     "output_type": "execute_result"
    },
    {
     "data": {
      "image/png": "[encoded data removed]",
      "text/plain": [
       "<Figure size 720x576 with 1 Axes>"
      ]
     },
     "metadata": {
      "needs_background": "light"
     },
     "output_type": "display_data"
    }
   ],
   "source": [
    "# Setting the plot size\n",
    "plt.figure(figsize=(10,8))\n",
    "\n",
    "# Creating line plot using the seaborn package\n",
    "sns.lineplot(data=agg_day_sensor_df, x='Day', y='Average Pedestrian Counts', marker='o', hue='Sensor_Name', legend='full')\\\n",
    "   .set_title('Line plot for Average Daily Count by Days for Top 7 sensors')\n",
    "\n",
    "# Reference: https://stackoverflow.com/questions/30490740/move-legend-outside-figure-in-seaborn-tsplot\n",
    "# Code to create the legend outside the plot\n",
    "plt.legend(bbox_to_anchor=(1.02, 1), loc=2, borderaxespad=0.)"
   ]
  },
  {
   "cell_type": "markdown",
   "metadata": {},
   "source": [
    "### Observations\n",
    "\n",
    "As the requirement is to arrange performances at the locations it was important to connect the pedestrian counts to the sensor names. The data has been filtered so that only the top 5-6 locations can be plotted to keep the plot clearer. Here the observations have been stated according to the above plot:\n",
    "* The average pedestrian counts are the highest on Fridays, therefore it would always be profitable to arrange the performances on Fridays.\n",
    "* The average counts are the highest on the locations(top-3):\n",
    "    * Flinders St-Swanston St (West)\n",
    "    * Flinders La - Swanston St (west) Temp\n",
    "    * Flinders la - Swanston St (west) Temp\n",
    "* So it is very clear that the location to target for performances on any day would be the Flinders Street and specifically the Swanston Street. On Fridays it would be even more busy than any other day and it would be much profitable for the Street performers.\n",
    "* On Sundays probably the average pedestrian count is low because may be people take rest/plan their next office day and like to stay more at home."
   ]
  },
  {
   "cell_type": "code",
   "execution_count": 84,
   "metadata": {},
   "outputs": [],
   "source": [
    "# Aggregating the data by Date_Time, Time, Sensor_Name and getting the sum\n",
    "agg_day_time_df = pdstrn_count_spdf.groupBy(['Date_Time','Time','Sensor_Name']).agg(sum(col('Hourly_Counts'))\\\n",
    "                                          .alias('Total Pedestrian Counts'))\n",
    "\n",
    "# Aggregating the data by Time, Sensor_Name and getting the mean \n",
    "# and ordering by average pedestrian counts in a descending manner\n",
    "agg_day_time_df = agg_day_time_df.groupBy(['Time','Sensor_Name']).agg(mean(col('Total Pedestrian Counts'))\\\n",
    "                                          .alias('Average Pedestrian Counts'))\\\n",
    "                                          .filter(col('Average Pedestrian Counts') >= 2800)\\\n",
    "                                          .orderBy(-col('Average Pedestrian Counts'))\n",
    "\n",
    "# Converting the data into Pandas datafarame to make visualization easier\n",
    "agg_day_df = agg_day_time_df.toPandas()"
   ]
  },
  {
   "cell_type": "code",
   "execution_count": 85,
   "metadata": {},
   "outputs": [
    {
     "data": {
      "text/plain": [
       "<matplotlib.legend.Legend at 0x7f4b1326fd30>"
      ]
     },
     "execution_count": 85,
     "metadata": {},
     "output_type": "execute_result"
    },
    {
     "data": {
      "image/png": "[encoded data removed]",
      "text/plain": [
       "<Figure size 720x576 with 1 Axes>"
      ]
     },
     "metadata": {
      "needs_background": "light"
     },
     "output_type": "display_data"
    }
   ],
   "source": [
    "# Setting the plot size\n",
    "plt.figure(figsize=(10,8))\n",
    "\n",
    "# Creating line plot using the seaborn package\n",
    "sns.lineplot(data=agg_day_df, x='Time', y='Average Pedestrian Counts', marker='o', hue='Sensor_Name', legend='full')\\\n",
    "   .set_title('Line plot for Average Daily Count by Time for Sensor Locations')\n",
    "\n",
    "# Reference: https://stackoverflow.com/questions/30490740/move-legend-outside-figure-in-seaborn-tsplot\n",
    "# Code to create the legend outside the plot\n",
    "plt.legend(bbox_to_anchor=(1.02, 1), loc=2, borderaxespad=0.)"
   ]
  },
  {
   "cell_type": "markdown",
   "metadata": {},
   "source": [
    "### Observations\n",
    "\n",
    "As the requirement is to arrange performances at the locations it was important to connect the pedestrian counts to the sensor names. The data has been filtered so that only the top 5-6 locations can be plotted to keep the plot clearer. Here the observations have been stated according to the above plot:\n",
    "* The average pedestrian counts are the highest in the evenings around 4pm to 5pm after which the average pedestrian count starts decreasing, therefore it would always be profitable to arrange the performances at that time as many pedestrians would be there at that time.\n",
    "* The average counts(for hourly basis) are the highest on the locations(top-3):\n",
    "    * Flinders St-Swanston St (West)\n",
    "    * Flinders La - Swanston St (west) Temp\n",
    "    * Flinders la - Swanston St (west) Temp\n",
    "    \n",
    "* So it is very clear that the location to target for performances at any hour would be the Flinders Street and specifically the Swanston Street.\n",
    "  \n",
    "* Performances between the hours 1pm to 5pm would attract the most audience as the average pedestrian count remains high for that period."
   ]
  },
  {
   "cell_type": "markdown",
   "metadata": {},
   "source": [
    "## 2. Feature extraction and ML training <a class=\"anchor\" name=\"two\"></a>"
   ]
  },
  {
   "cell_type": "markdown",
   "metadata": {},
   "source": [
    "In this section, we will need to use PySpark DataFrame functions and ML packages for data\n",
    "preparation, model building and evaluation. Also it si given that excessive usage of Spark SQL is discouraged."
   ]
  },
  {
   "cell_type": "markdown",
   "metadata": {},
   "source": [
    "## 2.1 Discuss the feature selection and prepare the feature columns <a class=\"anchor\" name=\"2.1\"></a>"
   ]
  },
  {
   "cell_type": "markdown",
   "metadata": {},
   "source": [
    "It can be claerly seen that the data providedis time-series data. We are reuired to create models that use this time-series characteristic of the data to predict the required value. The expectation is to make a one-step prediction.\n",
    "\n",
    "**One-Step Prediction:** Here we need to predict the pedestrian count value for the next hour using the count and other data for the previous hour.\n",
    "\n",
    "Also one of the important points is that the prediction needs to be given for hours between **9am and 11pm** both included."
   ]
  },
  {
   "cell_type": "markdown",
   "metadata": {},
   "source": [
    "## Part 2.1.1 <a class=\"anchor\" name=\"2.1.1\"></a>"
   ]
  },
  {
   "cell_type": "markdown",
   "metadata": {},
   "source": [
    "**Column Selection**\n",
    "\n",
    "1. **ID**: This column is a unique identifier for each row and therefore holds no importance from prediction's standpoint and therefore has been removed well before.\n",
    "2. **Date_Time**: This column has more importance when it comes to visalization, though it has some information which is present otherwise as well like Year, Month, Date, Time but also has other information which is not present like Day of week, Month Number, etc. It has been used to get this information.\n",
    "3. **Year, Month, Day, Time**: These column have would prove to be be very helpful for prediction as the exploration that we have seen in **\"Question:1.1.3\"** and **\"Question:1.1.4\"**.They look very important as they are showing a good pattern which can be learnt by the machine learning algorithm and hence provide some help with the prediction.\n",
    "4. **Mdate**: This is not showing that much information therefore it can be removed. The Mdate is a numerical value and if kept The visualization has been done but because of the limit of the graphs it has not been shown.\n",
    "5. **Sensor_ID**: This feature would also provide a lot of information because there would be some sensors/locations which might always receive high Pedestrian counts and there might be some others which receive low counts. Therefore this feature can show patterns.\n",
    "6. **Sensor_Name**: This feature does not have any importance as we already have the ID column in the feature list and therefore needs to be removed.\n",
    "7. **Hourly_Counts**: This column would be present for training the models for regression but will need to be removed for the classification modelling task.\n",
    "8. **above_threshold**: This column would be present for training the models for classification but will need to be removed for the regression modelling task.\n",
    "9. **Previous_Hour_Counts**: As it can be seen from the visualizations the Hourly_Counts column can be a very good feature to predict the next value from the previous value and therefore we can use that as a feature for prediction.\n",
    "\n",
    "\n",
    "<br>\n",
    "\n",
    "**Transformation**\n",
    "\n",
    "1. We will have to create the **Previous_Hour_Counts** column from the Hourly_Counts column using the windowing function called **lag()**. We have to window over the **Sensord_ID** column so that the count value of a sensor is not passed to the other sensor while creating a lag.\n",
    "2. We also need to remove the unwanted data for bettr efficiency. We can filter the data only between 2014 to 2019 and only for hours between 9am to 11pm both inclusive.\n",
    "3. The columns that will be dropped for the classification model would be: 'Date_Time','MonthNum','DayofWeek','Mdate','Sensor_Name','Hourly_Counts'.\n",
    "4. The columns to be dropped for the regression model would be: 'Date_Time','MonthNum','DayofWeek','Mdate','Sensor_Name','above_threshold'.\n",
    "5. We need to convert the datatypes of certain columns to the datatypes we need.\n",
    "    * Time - StringType()\n",
    "    * Previous_Hour_Counts - IntegerType()\n",
    "    * Hourly_Counts - IntegerType()\n",
    "    * Sensor_ID - StringType()\n",
    "6. Column name changes:\n",
    "    * above_threshold - label\n",
    "    * Houry_Counts - target\n",
    "7. Next we need to use the **StringIndexer** to index the string column which would be required in the next step.\n",
    "8. Now the **One-Hot Encoding** can be used for these indexed values so that the model can use these as features and make predictions. These values are being encoded in this manner as their ordinal values would not have any importance and may affect the model negatively.\n",
    "9. Before using the numeric columns and transformed columns(in point (7) and (8)) we need to assemble them into vectors using **VectorAssembler** so that they can be used by the models."
   ]
  },
  {
   "cell_type": "markdown",
   "metadata": {},
   "source": [
    "## Part 2.1.2 <a class=\"anchor\" name=\"2.1.2\"></a>"
   ]
  },
  {
   "cell_type": "markdown",
   "metadata": {},
   "source": [
    "In this part the transformations and the feature engineering that has been talked about in the previous part will be implemented."
   ]
  },
  {
   "cell_type": "markdown",
   "metadata": {},
   "source": [
    "We are creaing a lag on the column Hourly_Counts using the **lag()** function. And als we are using **partitionBy()** function on the Sensor_ID column to make sure that the data from one sensor is not given to the other sensor. Finally we are **orderBy()** function and ordering the data on the basis of the Date_Time column."
   ]
  },
  {
   "cell_type": "code",
   "execution_count": 86,
   "metadata": {},
   "outputs": [],
   "source": [
    "# Using the lag() function to create the Previous_Hour_Counts function\n",
    "# Using partitionBy() funciton to make sure sure that the data from one sensor is not given to the other sensor\n",
    "# Using orderBy() function and ordering the data using on the basis of the Date_Time column.\n",
    "\n",
    "modeldata_df = pdstrn_count_spdf.withColumn('Previous_Hour_Counts', lag('Hourly_Counts')\\\n",
    "                                            .over(w.partitionBy('Sensor_ID').orderBy(['Date_Time'])))"
   ]
  },
  {
   "cell_type": "markdown",
   "metadata": {},
   "source": [
    "So if we are creating lag on the column Hourly_Counts we would be getting null values for each of the sensor Ids as have windowed on the sensor Ids. Therefore, before proceeding we need to remove these null values. This can be done using the **na.drop()** functionality."
   ]
  },
  {
   "cell_type": "code",
   "execution_count": 87,
   "metadata": {},
   "outputs": [],
   "source": [
    "# Dropping the rows with null values\n",
    "modeldata_df = modeldata_df.na.drop()"
   ]
  },
  {
   "cell_type": "code",
   "execution_count": 88,
   "metadata": {},
   "outputs": [
    {
     "name": "stdout",
     "output_type": "stream",
     "text": [
      "root\n",
      " |-- ID: integer (nullable = true)\n",
      " |-- Date_Time: timestamp (nullable = true)\n",
      " |-- Year: integer (nullable = true)\n",
      " |-- Month: string (nullable = true)\n",
      " |-- Mdate: integer (nullable = true)\n",
      " |-- Day: string (nullable = true)\n",
      " |-- Time: integer (nullable = true)\n",
      " |-- Sensor_ID: integer (nullable = true)\n",
      " |-- Sensor_Name: string (nullable = true)\n",
      " |-- Hourly_Counts: integer (nullable = true)\n",
      " |-- above_threshold: string (nullable = false)\n",
      " |-- MonthNum: integer (nullable = true)\n",
      " |-- DayofWeek: integer (nullable = true)\n",
      " |-- Previous_Hour_Counts: integer (nullable = true)\n",
      "\n"
     ]
    }
   ],
   "source": [
    "# Printing the schema to see if the Previous_Hour_Counts has been successfully created\n",
    "modeldata_df.printSchema()"
   ]
  },
  {
   "cell_type": "code",
   "execution_count": 89,
   "metadata": {},
   "outputs": [],
   "source": [
    "# Filtering the data using the filter() function\n",
    "modeldata_df = modeldata_df.filter((modeldata_df.Year >= 2014) & \\\n",
    "                                   (modeldata_df.Year <= 2019) & \\\n",
    "                                   (modeldata_df.Time >= 9) & \\\n",
    "                                   (modeldata_df.Time <= 23))"
   ]
  },
  {
   "cell_type": "markdown",
   "metadata": {},
   "source": [
    "Now we will drop the columns which are not required for each of the usecases and get the data in another dataframe."
   ]
  },
  {
   "cell_type": "code",
   "execution_count": 90,
   "metadata": {},
   "outputs": [],
   "source": [
    "# Dropping the columns not required for classfication usecase\n",
    "# Creating list of columns to drop\n",
    "columns_to_drop_for_classification = ['ID','Date_Time','MonthNum','DayofWeek','Mdate','Sensor_Name','Hourly_Counts']\n",
    "\n",
    "#Using the list to drop the column from the dataframe using the drop function\n",
    "selected_features_df_cf = modeldata_df.drop(*columns_to_drop_for_classification)\n",
    "\n",
    "\n",
    "\n",
    "# Dropping the columns which are not required for regression usecase\n",
    "# Creating list of columns to drop\n",
    "columns_to_drop_for_regression = ['ID','Date_Time','MonthNum','DayofWeek','Mdate','Sensor_Name','above_threshold']\n",
    "\n",
    "#Using the list to drop the column from the dataframe using the drop function\n",
    "selected_features_df_reg = modeldata_df.drop(*columns_to_drop_for_regression)"
   ]
  },
  {
   "cell_type": "markdown",
   "metadata": {},
   "source": [
    "Let's check the schema of the dataframes created in the last step to make sure that only the required columns are there in them."
   ]
  },
  {
   "cell_type": "code",
   "execution_count": 91,
   "metadata": {},
   "outputs": [
    {
     "name": "stdout",
     "output_type": "stream",
     "text": [
      "root\n",
      " |-- Year: integer (nullable = true)\n",
      " |-- Month: string (nullable = true)\n",
      " |-- Day: string (nullable = true)\n",
      " |-- Time: integer (nullable = true)\n",
      " |-- Sensor_ID: integer (nullable = true)\n",
      " |-- above_threshold: string (nullable = false)\n",
      " |-- Previous_Hour_Counts: integer (nullable = true)\n",
      "\n"
     ]
    }
   ],
   "source": [
    "selected_features_df_cf.printSchema()"
   ]
  },
  {
   "cell_type": "code",
   "execution_count": 92,
   "metadata": {},
   "outputs": [
    {
     "name": "stdout",
     "output_type": "stream",
     "text": [
      "root\n",
      " |-- Year: integer (nullable = true)\n",
      " |-- Month: string (nullable = true)\n",
      " |-- Day: string (nullable = true)\n",
      " |-- Time: integer (nullable = true)\n",
      " |-- Sensor_ID: integer (nullable = true)\n",
      " |-- Hourly_Counts: integer (nullable = true)\n",
      " |-- Previous_Hour_Counts: integer (nullable = true)\n",
      "\n"
     ]
    }
   ],
   "source": [
    "selected_features_df_reg.printSchema()"
   ]
  },
  {
   "cell_type": "markdown",
   "metadata": {},
   "source": [
    "Next in the flow of transformations comes the datatype conversion in the required datatypes as mentioned in the [Part 2.1.1](#2.1.1)"
   ]
  },
  {
   "cell_type": "code",
   "execution_count": 93,
   "metadata": {},
   "outputs": [],
   "source": [
    "# Datatype conversion for the classification data dataframe for Time, Previous_Hour_Counts and Sensor_ID columns\n",
    "# Time - StringType()\n",
    "# Previous_Hour_Counts - IntegerType()\n",
    "# Sensor_ID - StringType()\n",
    "selected_features_df_cf = selected_features_df_cf.withColumn('Time', selected_features_df_cf['Time'].cast(StringType()))\\\n",
    "                                                 .withColumn('Previous_Hour_Counts', \\\n",
    "                                                             selected_features_df_cf['Previous_Hour_Counts']\\\n",
    "                                                             .cast(IntegerType()))\\\n",
    "                                                 .withColumn('Sensor_ID', selected_features_df_cf['Sensor_ID']\\\n",
    "                                                             .cast(StringType()))\n",
    "\n",
    "# Datatype conversion for the regression data dataframe for Time, Previous_Hour_Counts, Hourly_Counts and Sensor_ID columns\n",
    "# Time - StringType()\n",
    "# Previous_Hour_Counts - IntegerType()\n",
    "# Hourly_Counts - IntegerType()\n",
    "# Sensor_ID - StringType()\n",
    "selected_features_df_reg = selected_features_df_reg.withColumn('Time', selected_features_df_reg['Time'].cast(StringType()))\\\n",
    "                                                 .withColumn('Previous_Hour_Counts', \\\n",
    "                                                             selected_features_df_reg['Previous_Hour_Counts']\\\n",
    "                                                             .cast(IntegerType()))\\\n",
    "                                                 .withColumn('Hourly_Counts', \\\n",
    "                                                             selected_features_df_reg['Hourly_Counts']\\\n",
    "                                                             .cast(IntegerType()))\\\n",
    "                                                 .withColumn('Sensor_ID', selected_features_df_reg['Sensor_ID']\\\n",
    "                                                             .cast(StringType()))"
   ]
  },
  {
   "cell_type": "markdown",
   "metadata": {},
   "source": [
    "In the next step we will also rename the label/target columns for the models that we need to build.\n",
    "* above_threshold - label\n",
    "* Houry_Counts - target"
   ]
  },
  {
   "cell_type": "code",
   "execution_count": 94,
   "metadata": {},
   "outputs": [],
   "source": [
    "selected_features_df_cf = selected_features_df_cf.withColumnRenamed('above_threshold', 'label')\n",
    "selected_features_df_reg = selected_features_df_reg.withColumnRenamed('Hourly_Counts', 'target')"
   ]
  },
  {
   "cell_type": "markdown",
   "metadata": {},
   "source": [
    "## 2.2 Preparing Spark ML Transformers/Estimators for features, labels and models <a class=\"anchor\" name=\"2.2\"></a>"
   ]
  },
  {
   "cell_type": "markdown",
   "metadata": {},
   "source": [
    "In this section of the assigment it is reuqired to use the transformers in-built in the Pyspark module to transform the columns so that they can be used by the model."
   ]
  },
  {
   "cell_type": "markdown",
   "metadata": {},
   "source": [
    "## Part 2.2.1 <a class=\"anchor\" name=\"2.2.1\"></a>"
   ]
  },
  {
   "cell_type": "markdown",
   "metadata": {},
   "source": [
    "The first step to transform the dataframe is to segregate the string and numeric column from both the dataframes and get them in lists so that they can be used accordingly in further steps."
   ]
  },
  {
   "cell_type": "markdown",
   "metadata": {},
   "source": [
    "The datatypes of the columns are stored as tuples, these tuples can be accessed and then using the **startswith()** function they can be filtered."
   ]
  },
  {
   "cell_type": "code",
   "execution_count": 95,
   "metadata": {},
   "outputs": [],
   "source": [
    "# Getting  the string columns from the classificaiton data dataframe\n",
    "string_cols_cf = [column[0] for column in selected_features_df_cf.dtypes \\\n",
    "                      if (column[1].startswith('string'))]\n",
    "\n",
    "# Getting  the integer/numeric columns from the classificaiton data dataframe\n",
    "int_cols_cf = [column[0] for column in selected_features_df_cf.dtypes \\\n",
    "                      if (column[1].startswith('int'))]\n",
    "\n",
    "# Getting  the string columns from the regression data dataframe\n",
    "string_cols_reg = [column[0] for column in selected_features_df_reg.dtypes \\\n",
    "                      if (column[1].startswith('string'))]\n",
    "\n",
    "# Getting  the integer/numeric columns from the regression data dataframe\n",
    "int_cols_reg = [column[0] for column in selected_features_df_reg.dtypes \\\n",
    "                      if (column[1].startswith('int'))]"
   ]
  },
  {
   "cell_type": "markdown",
   "metadata": {},
   "source": [
    "### Transformation for Classification model"
   ]
  },
  {
   "cell_type": "markdown",
   "metadata": {},
   "source": [
    "For transforming the data for the classification model we need to use the **String Indexer**, **One-Hot Encoder** and **Vector Assembler**. Here we will just create the stages so that these stages can later be plugged in a pipeline to make the code more organised."
   ]
  },
  {
   "cell_type": "code",
   "execution_count": 96,
   "metadata": {},
   "outputs": [],
   "source": [
    "##### Stage 1: String Indexer\n",
    "\n",
    "# Input columns will be the string columns from the classification dataframe\n",
    "inputCols = string_cols_cf\n",
    "# output columns will be the column-names with 'str_dex' postfix attached to their original names\n",
    "outputCols = [f'{x}_str_dex' for x in string_cols_cf]\n",
    "\n",
    "# First stage of the pipeline for the classification models\n",
    "# We are using the inputCols parameter to set the input columns and outputCols param to set the output columns\n",
    "# The handleInvalid param is set to 'keep' so that values outside the splits can be kept in additional buckets\n",
    "cf_stage_1 = StringIndexer(inputCols=inputCols, outputCols=outputCols, handleInvalid='keep')\n",
    "\n",
    "\n",
    "\n",
    "##### Stage 2: One Hot Encoder\n",
    "\n",
    "# Input columns will be the columns in the outputCols list created in the last step\n",
    "inputCols_OHE = [x for x in outputCols if x != 'label_str_dex']\n",
    "# Output columns will be all the string columns except the label column as it has\n",
    "# been string indexed and need not be encoded using One-Hot encoding\n",
    "outputCols_OHE = [f'{x}_ohe' for x in string_cols_cf if x != 'label']\n",
    "\n",
    "# Second stage of the pipeline for the classification models\n",
    "# We are using the inputCols parameter to set the input columns and outputCols\n",
    "# param to set the output columns\n",
    "cf_stage_2 = OneHotEncoder(inputCols=inputCols_OHE, outputCols=outputCols_OHE)\n",
    "\n",
    "\n",
    "\n",
    "##### Stage 3: Vector Assembler\n",
    "\n",
    "# Copying the numeric columns to input columns's list\n",
    "inputCols_cf = int_cols_cf\n",
    "\n",
    "# Input columns list being extended with the outputCols_OHE list\n",
    "inputCols_cf.extend(outputCols_OHE)\n",
    "\n",
    "# Removing the Year column from the list as it is not\n",
    "# coming up in the features' importance and therefore\n",
    "# can be removed\n",
    "inputCols_cf.remove('Year')\n",
    "\n",
    "# Third stage of the pipeline for the classification models\n",
    "# We are using the inputCols parameter to set the input columns and outputCols\n",
    "# param to set the output columns\n",
    "cf_stage_3 = VectorAssembler(\n",
    "    inputCols=inputCols_cf,\n",
    "    outputCol=\"features_cf\")"
   ]
  },
  {
   "cell_type": "markdown",
   "metadata": {},
   "source": [
    "### Transformation for Regression model"
   ]
  },
  {
   "cell_type": "markdown",
   "metadata": {},
   "source": [
    "For transforming the data for the regression model we need to use the **String Indexer**, **One-Hot Encoder** and **Vector Assembler**. Here we will just create the stages so that these stages can later be plugged in a pipeline to make the code more organised."
   ]
  },
  {
   "cell_type": "code",
   "execution_count": 97,
   "metadata": {},
   "outputs": [],
   "source": [
    "##### Stage 1: String Indexer\n",
    "\n",
    "# Input columns will be the string columns from the regression dataframe\n",
    "inputCols = string_cols_reg\n",
    "# output columns will be the column-names with 'str_dex' postfix attached to their original names\n",
    "outputCols = [f'{x}_str_dex' for x in string_cols_reg]\n",
    "\n",
    "# First stage of the pipeline for the regression models\n",
    "# We are using the inputCols parameter to set the input columns and outputCols param to set the output columns\n",
    "# The handleInvalid param is set to 'keep' so that values outside the splits can be kept in additional buckets\n",
    "reg_stage_1 = StringIndexer(inputCols=inputCols, outputCols=outputCols, handleInvalid='keep')\n",
    "\n",
    "\n",
    "\n",
    "##### Stage 2: One Hot Encoder\n",
    "\n",
    "# Input columns will be the columns in the outputCols list created in the last step\n",
    "inputCols_OHE = [x for x in outputCols] # if x != 'label_str_dex'\n",
    "# Output columns will be all the string columns except the label column as it has been string indexed\n",
    "# and need not be encoded using One-Hot encoding\n",
    "outputCols_OHE = [f'{x}_ohe' for x in string_cols_reg] #if x != 'label'\n",
    "\n",
    "# Second stage of the pipeline for the regression models\n",
    "# We are using the inputCols parameter to set the input columns and outputCols param to set the output columns\n",
    "reg_stage_2 = OneHotEncoder(inputCols=inputCols_OHE,\n",
    "                        outputCols=outputCols_OHE)\n",
    "\n",
    "\n",
    "\n",
    "##### Stage 3: Vector Assembler\n",
    "\n",
    "# Copying the numeric columns to input columns's list\n",
    "inputCols_reg = int_cols_reg\n",
    "\n",
    "# Input columns list being extended with the outputCols_OHE list\n",
    "inputCols_reg.extend(outputCols_OHE)\n",
    "\n",
    "# Removing the Year column from the list as it is not\n",
    "# coming up in the features' importance and therefore\n",
    "# can be removed\n",
    "inputCols_reg.remove('Year')\n",
    "\n",
    "# Third stage of the pipeline for the regression models\n",
    "# We are using the inputCols parameter to set the input columns and outputCols\n",
    "# param to set the output columns\n",
    "reg_stage_3 = VectorAssembler(\n",
    "    inputCols=inputCols_reg,\n",
    "    outputCol=\"features_reg\")"
   ]
  },
  {
   "cell_type": "markdown",
   "metadata": {},
   "source": [
    "Next we need to create stages for building the models namely:\n",
    "* Decision Tree for classification\n",
    "* Decision Tree for regression\n",
    "* GB Tree for classification\n",
    "* GB Tree for regression\n",
    "\n",
    "These stages will the 4th stage for each of the pipelines, i.e. after transforming the data into the required form it will will be used to train these models"
   ]
  },
  {
   "cell_type": "code",
   "execution_count": 98,
   "metadata": {},
   "outputs": [],
   "source": [
    "# Fourth Stage to include the building of Decision Tree classification model\n",
    "# Impurity - 'gini' - To use the gini index for splitting the nodes\n",
    "# maxDepth is kept as 8 because if the value of maxDepth is increased it might lead to over-fitting\n",
    "# maxBins is kept 40 as  the number of distinct categorical values are more\n",
    "dt_clsf_stage_4 = DecisionTreeClassifier(featuresCol = 'features_cf', labelCol = 'label_str_dex',\n",
    "                                       impurity='gini', maxDepth=8, maxBins=40)"
   ]
  },
  {
   "cell_type": "code",
   "execution_count": 99,
   "metadata": {},
   "outputs": [],
   "source": [
    "# Fourth Stage to include the building of Decision Tree regression model\n",
    "# Impurity - 'variance' - To perform regression instead of classification\n",
    "# maxDepth is kept as 5 because if the value of maxDepth is increased it might lead to over-fitting\n",
    "# maxBins is kept 40 as  the number of distinct categorical values are more\n",
    "dt_reg_stage_4 = DecisionTreeRegressor(featuresCol = 'features_reg', labelCol = 'target',impurity='variance',\\\n",
    "                                       maxDepth=5, maxBins=40)"
   ]
  },
  {
   "cell_type": "code",
   "execution_count": 100,
   "metadata": {},
   "outputs": [],
   "source": [
    "# Fourth Stage to include the building of GB Tree classification model\n",
    "# maxIter - It will go for 5 iterations to get the best model in those 5\n",
    "#           iterations\n",
    "gbt_clsf_stage_4 = GBTClassifier(featuresCol = 'features_cf', labelCol = 'label_str_dex', maxIter=5)"
   ]
  },
  {
   "cell_type": "code",
   "execution_count": 101,
   "metadata": {},
   "outputs": [],
   "source": [
    "# Fourth Stage to include the building of GB Tree regression model\n",
    "# maxIter - It will go for 10 iterations to get the best model in those 10\n",
    "#           iterations\n",
    "gbt_reg_stage_4 = GBTRegressor(featuresCol=\"features_reg\",labelCol = 'target', maxIter=5)"
   ]
  },
  {
   "cell_type": "markdown",
   "metadata": {},
   "source": [
    "## Part 2.2.2 <a class=\"anchor\" name=\"2.2.2\"></a>"
   ]
  },
  {
   "cell_type": "markdown",
   "metadata": {},
   "source": [
    "In this section we need to create teo pipelines for each of the usecases to make the code organised, easily manageable."
   ]
  },
  {
   "cell_type": "code",
   "execution_count": 102,
   "metadata": {},
   "outputs": [],
   "source": [
    "# This is the pipeline for Decision Tree classification model with all the 4 stages created above\n",
    "dtcf_pipeline = Pipeline(stages = [cf_stage_1,cf_stage_2,cf_stage_3,dt_clsf_stage_4])\n",
    "\n",
    "# This is the pipeline for GB Tree classification model with all the 4 stages created above\n",
    "gbtcf_pipeline = Pipeline(stages = [cf_stage_1,cf_stage_2,cf_stage_3,gbt_clsf_stage_4])"
   ]
  },
  {
   "cell_type": "code",
   "execution_count": 103,
   "metadata": {},
   "outputs": [],
   "source": [
    "# This is the pipeline for Decision Tree regression model with all the 4 stages created above\n",
    "dtreg_pipeline = Pipeline(stages = [reg_stage_1,reg_stage_2,reg_stage_3,dt_reg_stage_4])\n",
    "\n",
    "# This is the pipeline for GB Tree regression model with all the 4 stages created above\n",
    "gbtreg_pipeline = Pipeline(stages = [reg_stage_1,reg_stage_2,reg_stage_3,gbt_reg_stage_4])"
   ]
  },
  {
   "cell_type": "markdown",
   "metadata": {},
   "source": [
    "## Part 2.2.3 <a class=\"anchor\" name=\"2.2.3\"></a>"
   ]
  },
  {
   "cell_type": "markdown",
   "metadata": {},
   "source": [
    "In this section the hyperparameters maxDepth and maxBins for the Decision Tree Machine learning algorithm would be explained.\n",
    "\n",
    "* **maxDepth**: This is the maximum levels that the programmer wants the tree to go to, the more the number the levels of the tree the more the number of rules will be generated for the data. More the number of levels the more the model moves towards accuracy but with this accuracy comes extra training cost(takes much more time to execute) and over-fitting.\n",
    "* **maxBins**: With increasing the quantity of maxBins the algorithm's ability to incorporate more split candidates increases and therefore the decisions are taken at a much more granular level. As the granularity of the decisions increases obviously the computation and the communication cost also increases. Note that the maxBins parameter must be at least the maximum number of categories M for any categorical feature.\n",
    "\n",
    "\n",
    "### According to the usecase\n",
    "As per the use case as the we are taking the Time and Sensor ID columns as categorical features it would be better to increase the number of bins, as the number of distinct categories are more and therefore this modificaiton in the **maxBins** would increase the ability to incorporate more split candidates.\n",
    "If the **maxDepth** is kept to a higher value it would lead to over-fitting as the number of features are not a lot."
   ]
  },
  {
   "cell_type": "markdown",
   "metadata": {},
   "source": [
    "## 2.3 Preparing the training data and testing data <a class=\"anchor\" name=\"2.3\"></a>"
   ]
  },
  {
   "cell_type": "markdown",
   "metadata": {},
   "source": [
    "## Part 2.3.1 <a class=\"anchor\" name=\"2.3.1\"></a>"
   ]
  },
  {
   "cell_type": "markdown",
   "metadata": {},
   "source": [
    "In this section we are required to split the data into training and testing for both the usecases. It is required that the training is done with the data between 2014 and 2018 and the testing data needs to be of the year 2019. Also the complete data needs to be selected except the **Year** column because it has been noted that the Year column does not add any importance to the models, does not improve the model performance and hence will not be included."
   ]
  },
  {
   "cell_type": "markdown",
   "metadata": {},
   "source": [
    "First we will create the training and testing data for classification usecase."
   ]
  },
  {
   "cell_type": "code",
   "execution_count": 104,
   "metadata": {},
   "outputs": [],
   "source": [
    "# Creating the training data using the dataframe by filtering for the years between 2014 and 2018 both inclusive\n",
    "# with the selected features - 'Month','Day','Time','Sensor_ID','label','Previous_Hour_Counts'\n",
    "cf_train_df = selected_features_df_cf.filter((selected_features_df_cf.Year >= 2014) \n",
    "                                                   & (selected_features_df_cf.Year <= 2018))\\\n",
    "                                     .select('Month','Day','Time','Sensor_ID','label','Previous_Hour_Counts')\n",
    "\n",
    "\n",
    "# Creating the testing data using the dataframe by filtering for the year 2019\n",
    "# with the selected features - 'Month','Day','Time','Sensor_ID','label','Previous_Hour_Counts'\n",
    "cf_test_df = selected_features_df_cf.filter((selected_features_df_cf.Year == 2019))\\\n",
    "                                    .select('Month','Day','Time','Sensor_ID','label','Previous_Hour_Counts') "
   ]
  },
  {
   "cell_type": "markdown",
   "metadata": {},
   "source": [
    "Now we will create the training and testing data for regression usecase."
   ]
  },
  {
   "cell_type": "code",
   "execution_count": 105,
   "metadata": {},
   "outputs": [],
   "source": [
    "# Creating the training data using the dataframe by filtering for the years between 2014 and 2018 both inclusive\n",
    "# with the selected features - 'Month','Day','Time','Sensor_ID','target','Previous_Hour_Counts'\n",
    "reg_train_df = selected_features_df_reg.filter((selected_features_df_reg.Year >= 2014) \n",
    "                                                   & (selected_features_df_reg.Year <= 2018))\\\n",
    "                                     .select('Month','Day','Time','Sensor_ID','target','Previous_Hour_Counts') \n",
    "\n",
    "\n",
    "# Creating the training data using the dataframe by filtering for the year 2019\n",
    "# with the selected features - 'Month','Day','Time','Sensor_ID','target','Previous_Hour_Counts'\n",
    "reg_test_df = selected_features_df_reg.filter((selected_features_df_reg.Year == 2019))\\\n",
    "                                    .select('Month','Day','Time','Sensor_ID','target','Previous_Hour_Counts') "
   ]
  },
  {
   "cell_type": "markdown",
   "metadata": {},
   "source": [
    "Printing the schema of the training and testing dataframes for both the usecases to make sure that they have the required columns."
   ]
  },
  {
   "cell_type": "code",
   "execution_count": 106,
   "metadata": {},
   "outputs": [
    {
     "name": "stdout",
     "output_type": "stream",
     "text": [
      "root\n",
      " |-- Month: string (nullable = true)\n",
      " |-- Day: string (nullable = true)\n",
      " |-- Time: string (nullable = true)\n",
      " |-- Sensor_ID: string (nullable = true)\n",
      " |-- label: string (nullable = false)\n",
      " |-- Previous_Hour_Counts: integer (nullable = true)\n",
      "\n",
      "root\n",
      " |-- Month: string (nullable = true)\n",
      " |-- Day: string (nullable = true)\n",
      " |-- Time: string (nullable = true)\n",
      " |-- Sensor_ID: string (nullable = true)\n",
      " |-- label: string (nullable = false)\n",
      " |-- Previous_Hour_Counts: integer (nullable = true)\n",
      "\n",
      "root\n",
      " |-- Month: string (nullable = true)\n",
      " |-- Day: string (nullable = true)\n",
      " |-- Time: string (nullable = true)\n",
      " |-- Sensor_ID: string (nullable = true)\n",
      " |-- target: integer (nullable = true)\n",
      " |-- Previous_Hour_Counts: integer (nullable = true)\n",
      "\n",
      "root\n",
      " |-- Month: string (nullable = true)\n",
      " |-- Day: string (nullable = true)\n",
      " |-- Time: string (nullable = true)\n",
      " |-- Sensor_ID: string (nullable = true)\n",
      " |-- target: integer (nullable = true)\n",
      " |-- Previous_Hour_Counts: integer (nullable = true)\n",
      "\n"
     ]
    }
   ],
   "source": [
    "cf_train_df.printSchema()\n",
    "cf_test_df.printSchema()\n",
    "reg_train_df.printSchema()\n",
    "reg_test_df.printSchema()"
   ]
  },
  {
   "cell_type": "markdown",
   "metadata": {},
   "source": [
    "The next step would be to cache the training and testing data for both the usecases as they will be used very often. The caching of the data cab be done using the **cache()** function"
   ]
  },
  {
   "cell_type": "code",
   "execution_count": 107,
   "metadata": {},
   "outputs": [
    {
     "data": {
      "text/plain": [
       "DataFrame[Month: string, Day: string, Time: string, Sensor_ID: string, label: string, Previous_Hour_Counts: int]"
      ]
     },
     "execution_count": 107,
     "metadata": {},
     "output_type": "execute_result"
    }
   ],
   "source": [
    "# Caching the data for the classification usecase\n",
    "cf_train_df.cache()\n",
    "cf_test_df.cache()"
   ]
  },
  {
   "cell_type": "code",
   "execution_count": 108,
   "metadata": {},
   "outputs": [
    {
     "data": {
      "text/plain": [
       "DataFrame[Month: string, Day: string, Time: string, Sensor_ID: string, target: int, Previous_Hour_Counts: int]"
      ]
     },
     "execution_count": 108,
     "metadata": {},
     "output_type": "execute_result"
    }
   ],
   "source": [
    "# Caching the data for the regression usecase\n",
    "reg_train_df.cache()\n",
    "reg_test_df.cache()"
   ]
  },
  {
   "cell_type": "markdown",
   "metadata": {},
   "source": [
    "## 2.4 Training and evaluating models <a class=\"anchor\" name=\"2.4\"></a>"
   ]
  },
  {
   "cell_type": "markdown",
   "metadata": {},
   "source": [
    "## Part 2.4.1 <a class=\"anchor\" name=\"2.4.1\"></a>"
   ]
  },
  {
   "cell_type": "markdown",
   "metadata": {},
   "source": [
    "In this section we will use the pipeline object for the first usecase. The following steps will be performed in the pipeline:\n",
    "1. String Indexing of the string columns\n",
    "2. One-Hot Encoding of the string columns except the label column\n",
    "3. Vector Assembling of the features so that they can be used by the model\n",
    "4. Building the Decision Tree/GB Tree classification model."
   ]
  },
  {
   "cell_type": "markdown",
   "metadata": {},
   "source": [
    "Next we need to fit the training data on the Decision Tree classification model pipeline."
   ]
  },
  {
   "cell_type": "code",
   "execution_count": 109,
   "metadata": {},
   "outputs": [],
   "source": [
    "# Fitting the training data on the Decision Tree classification model pipeline\n",
    "dtcf_model = dtcf_pipeline.fit(cf_train_df)\n",
    "\n",
    "# After getting the pipeline model object we can now make predictions\n",
    "# on the test data\n",
    "dtcf_Predictions = dtcf_model.transform(cf_test_df)"
   ]
  },
  {
   "cell_type": "markdown",
   "metadata": {},
   "source": [
    "Now we need to fit the training data on the GB Tree classification model pipeline."
   ]
  },
  {
   "cell_type": "code",
   "execution_count": 110,
   "metadata": {},
   "outputs": [],
   "source": [
    "# Fitting the training data on the GB Tree classification model pipeline\n",
    "gbtcf_model = gbtcf_pipeline.fit(cf_train_df)\n",
    "\n",
    "# After getting the pipeline model object we can now make predictions\n",
    "# on the test data\n",
    "gbtcf_Predictions = gbtcf_model.transform(cf_test_df)"
   ]
  },
  {
   "cell_type": "markdown",
   "metadata": {},
   "source": [
    "## Part 2.4.2 <a class=\"anchor\" name=\"2.4.2\"></a>"
   ]
  },
  {
   "cell_type": "markdown",
   "metadata": {},
   "source": [
    "Now it's time to check the predictions for each of the models created\n",
    "\n",
    "First let's check for the **Decision Tree classification model**"
   ]
  },
  {
   "cell_type": "code",
   "execution_count": 111,
   "metadata": {},
   "outputs": [
    {
     "name": "stdout",
     "output_type": "stream",
     "text": [
      "+-------------+----------+------+\n",
      "|label_str_dex|prediction| count|\n",
      "+-------------+----------+------+\n",
      "|          1.0|       0.0|  4391|\n",
      "|          0.0|       0.0|250290|\n",
      "|          1.0|       1.0| 26650|\n",
      "|          0.0|       1.0|  4200|\n",
      "+-------------+----------+------+\n",
      "\n"
     ]
    }
   ],
   "source": [
    "# Displaying the count for ecah of the combinations for actual and predicted value labels\n",
    "# The column name 'label' becomes 'label_str_dex' after String Indexing\n",
    "# Also we are ordering it with the precition column to make the display similar\n",
    "# to the screenshot in the assignment specification\n",
    "dtcf_Predictions.groupBy('label_str_dex', 'prediction').count().orderBy('prediction').show()"
   ]
  },
  {
   "cell_type": "markdown",
   "metadata": {},
   "source": [
    "Now let's check for the **GB Tree classification model**"
   ]
  },
  {
   "cell_type": "code",
   "execution_count": 112,
   "metadata": {},
   "outputs": [
    {
     "name": "stdout",
     "output_type": "stream",
     "text": [
      "+-------------+----------+------+\n",
      "|label_str_dex|prediction| count|\n",
      "+-------------+----------+------+\n",
      "|          1.0|       0.0|  4585|\n",
      "|          0.0|       0.0|248954|\n",
      "|          1.0|       1.0| 26456|\n",
      "|          0.0|       1.0|  5536|\n",
      "+-------------+----------+------+\n",
      "\n"
     ]
    }
   ],
   "source": [
    "# Displaying the count for ecah of the combinations for actual and predicted value labels\n",
    "# The column name 'label' becomes 'label_str_dex' after String Indexing\n",
    "# Also we are ordering it with the precition column to make the display similar\n",
    "# to the screenshot in the assignment specification\n",
    "gbtcf_Predictions.groupBy('label_str_dex', 'prediction').count().orderBy('prediction').show()"
   ]
  },
  {
   "cell_type": "markdown",
   "metadata": {},
   "source": [
    "The above display is called the confusion matrix which is telling us that a lot of values have been predicted properly. But we cannot assess the model like this.We would need to look at metrics like AUC value, Precision value, Recall value and the F1 Score.\n",
    "For this purpoe a function **compute_metrics_cf()** has been created that computes:\n",
    "* AUC value\n",
    "* Accuracy value\n",
    "* Precision value\n",
    "* Recall value\n",
    "* F1 Score"
   ]
  },
  {
   "cell_type": "code",
   "execution_count": 113,
   "metadata": {},
   "outputs": [],
   "source": [
    "def compute_metrics_cf(predictions, model_name):\n",
    "    '''\n",
    "    This function computes the metrics for classification models usde for binary classification.\n",
    "    There are two params:\n",
    "    1. predictions: This is the dataframe which contains the predictions done on the test data\n",
    "                    by the model.\n",
    "    2. model_name: This id the name of the model that would be used to display.\n",
    "    '''\n",
    "    \n",
    "    \n",
    "    # True negatives count\n",
    "    TN = predictions.filter('prediction = 0 AND label_str_dex = 0').count()\n",
    "    # True positives count\n",
    "    TP = predictions.filter('prediction = 1 AND label_str_dex = 1').count()\n",
    "    # False negatives count\n",
    "    FN = predictions.filter('prediction = 0 AND label_str_dex = 1').count()\n",
    "    # Fals positives count\n",
    "    FP = predictions.filter('prediction = 1 AND label_str_dex = 0').count()\n",
    "\n",
    "    \n",
    "    # calculating the metrics by the confusion matrix\n",
    "    # This is the basic accuracy which might not be the right choice for model evaluation\n",
    "    # as the classes are not balanced\n",
    "    accuracy = (TP + TN) / (TP + TN + FN + FP)\n",
    "    \n",
    "    # This is the percent of true positives predictedtrue positive rate\n",
    "    precision = TP / (TP + FP)#WRITE CODE : formula to find precision\n",
    "    \n",
    "    # This is the \n",
    "    recall = TP / (TP + FN)#WRITE CODE : formula to find recall\n",
    "    \n",
    "    # This is the harmonic mean of the above computed precision and recall\n",
    "    f1 = (2 * precision * recall) / (precision + recall)\n",
    "    \n",
    "    # Using the BinaryClassificationEvaluator to get the AUC values\n",
    "    evaluator = BinaryClassificationEvaluator(labelCol='label_str_dex')\n",
    "    auc_val = evaluator.evaluate(predictions)\n",
    "    \n",
    "    # Printing  the metrics for the model\n",
    "    print(model_name, 'Metrics:\\nAUC Value:',\\\n",
    "          str(auc_val) + '\\nAccuracy Value:',\\\n",
    "          str(accuracy) + '\\nPrecision Value:',\\\n",
    "          str(precision) + '\\nRecall Value:',\\\n",
    "          str(recall) + '\\nF1 Score:', str(f1) + '\\n')"
   ]
  },
  {
   "cell_type": "markdown",
   "metadata": {},
   "source": [
    "Displaying the evaluation metrics for the Decision Tree classification model using the above created model."
   ]
  },
  {
   "cell_type": "code",
   "execution_count": 114,
   "metadata": {},
   "outputs": [
    {
     "name": "stdout",
     "output_type": "stream",
     "text": [
      "Decision Tree Model Metrics:\n",
      "AUC Value: 0.9345047414781482\n",
      "Accuracy Value: 0.9699121986754503\n",
      "Precision Value: 0.8638573743922204\n",
      "Recall Value: 0.8585419284172546\n",
      "F1 Score: 0.8611914494837699\n",
      "\n"
     ]
    }
   ],
   "source": [
    "# Code to compute the metrics for the Decision Tree classification model\n",
    "compute_metrics_cf(dtcf_Predictions,'Decision Tree Model')"
   ]
  },
  {
   "cell_type": "markdown",
   "metadata": {},
   "source": [
    "Displaying the evaluation metrics for the GB Tree classification model using the above created model."
   ]
  },
  {
   "cell_type": "code",
   "execution_count": 115,
   "metadata": {},
   "outputs": [
    {
     "name": "stdout",
     "output_type": "stream",
     "text": [
      "GB Tree Model Metrics:\n",
      "AUC Value: 0.9859349071254353\n",
      "Accuracy Value: 0.9645537612378341\n",
      "Precision Value: 0.8269567391847962\n",
      "Recall Value: 0.8522921297638607\n",
      "F1 Score: 0.8394333127092158\n",
      "\n"
     ]
    }
   ],
   "source": [
    "# Code to compute the metrics for the GB Tree Tree classification model\n",
    "compute_metrics_cf(gbtcf_Predictions, 'GB Tree Model')"
   ]
  },
  {
   "cell_type": "markdown",
   "metadata": {},
   "source": [
    "Let's discuss the metrics below:\n",
    "* **Accuracy**: The **accuracy value** though might be fine to compute but as it was discussed at the beginning of the document about the classification problem in this case being an imbalanced one the accuracy value might be misleading. Because if one predicts all the values as below the threshold they still might be 93% percent approx.\n",
    "* **AUC value**: **AUC value** measures the Area under the ROC Curve. On the ROC curve the TPR(i.e. True positive rate or recall) and the FPR(i.e. False positive rate) are plotted. AUC provides the probability that a positive prediciton will have a higher score than a negative prediction. Therefore it is considrered that more the value of AUC better the model credibility. It measures the ability of the mdel to distinguish between negative and positive class.\n",
    "* **Precision Value**: This metric provides the proportion of positive values predicted correctly upon the total number of positive class values predicted by the model.\n",
    "* **Recall Value**: This is the measure that tells us the actual positive class observations that have been predicted as positive by the model.\n",
    "* **F1 Score**: If we want to use the precision and recall score simultaneously to assess the model its would be better to go with the F1 score as it gives an amalgamated value.\n",
    "\n",
    "To arrive at a better model the metric that should be chosen are F1 score and AUC value. based on these metrics one can arrive a on a model which will reduce the chance of falsely recommending a location."
   ]
  },
  {
   "cell_type": "markdown",
   "metadata": {},
   "source": [
    "The metrics that we need to look at are AUC values and F1 Score:<br><br>\n",
    "Decision Tree classification model:\n",
    "* AUC value - 0.9322260860896233\n",
    "* F1 Score - 0.8548536306191887\n",
    "\n",
    "GBT Tree classification model:\n",
    "* AUC value - 0.9869279178574178\n",
    "* F1 Score - 0.8339677332016755\n",
    "\n",
    "Out of the metrics for the two models the AUC value for the GB Tree model is greater but the F1 Score of the GB Tree model is lesser than the F1 score of the Decision Tree model. The more preferable value out the two is the F1 score. That is why we are taking the Decision Tree model as the better model. In the next step we will persist the Decision Tree classification model."
   ]
  },
  {
   "cell_type": "code",
   "execution_count": 116,
   "metadata": {},
   "outputs": [],
   "source": [
    "dtcf_model.stages[-1].save('agoy0005_DTreeClassificationModel_Above_Threshold_Prediction')"
   ]
  },
  {
   "cell_type": "markdown",
   "metadata": {},
   "source": [
    "## Part 2.4.3 <a class=\"anchor\" name=\"2.4.3\"></a>"
   ]
  },
  {
   "cell_type": "markdown",
   "metadata": {},
   "source": [
    "In this section first we have to print the node splitting criteria. This can be done using the **toDebugString** API of the model, but the problem is that it does not represent the rules in a way that others can read it. The features do not have the proper name. So it needs to be made in a proper form therefore, two functions **createFeatureDictionary()** and **printSplittingCrieria()** have been created."
   ]
  },
  {
   "cell_type": "code",
   "execution_count": 117,
   "metadata": {
    "scrolled": true
   },
   "outputs": [
    {
     "name": "stdout",
     "output_type": "stream",
     "text": [
      "DecisionTreeClassificationModel: uid=DecisionTreeClassifier_c477e04ddcad, depth=8, numNodes=307, numClasses=3, numFeatures=93\n",
      "  If (Previous_Hour_Counts <= 2003.5)\n",
      "   If (Previous_Hour_Counts <= 1363.0)\n",
      "    If (Previous_Hour_Counts <= 1134.5)\n",
      "     If (Previous_Hour_Counts <= 959.5)\n",
      "      If (Sensor_ID_ohe_7 in {0.0})\n",
      "       If (Previous_Hour_Counts <= 819.5)\n",
      "        Predict: 0.0\n",
      "       Else (Previous_Hour_Counts > 819.5)\n",
      "        If (Sensor_ID_ohe_57 in {0.0})\n",
      "         Predict: 0.0\n",
      "        Else (Sensor_ID_ohe_57 not in {0.0})\n",
      "         If (Time_ohe_12 in {0.0})\n",
      "          Predict: 0.0\n",
      "         Else (Time_ohe_12 not in {0.0})\n",
      "          Predict: 1.0\n",
      "      Else (Sensor_ID_ohe_7 not in {0.0})\n",
      "       Predict: 0.0\n",
      "     Else (Previous_Hour_Counts > 959.5)\n",
      "      If (Sensor_ID_ohe_57 in {0.0})\n",
      "       If (Sensor_ID_ohe_9 in {0.0})\n",
      "        If (Sensor_ID_ohe_7 in {0.0})\n",
      "         Predict: 0.0\n",
      "        Else (Sensor_ID_ohe_7 not in {0.0})\n",
      "         If (Time_ohe_10 in {0.0})\n",
      "          Predict: 0.0\n",
      "         Else (Time_ohe_10 not in {0.0})\n",
      "          Predict: 1.0\n",
      "       Else (Sensor_ID_ohe_9 not in {0.0})\n",
      "        If (Time_ohe_16 in {0.0})\n",
      "         If (Time_ohe_12 in {0.0})\n",
      "          Predict: 0.0\n",
      "         Else (Time_ohe_12 not in {0.0})\n",
      "          Predict: 1.0\n",
      "        Else (Time_ohe_16 not in {0.0})\n",
      "         If (Day_ohe_Friday in {0.0})\n",
      "          Predict: 1.0\n",
      "         Else (Day_ohe_Friday not in {0.0})\n",
      "          Predict: 0.0\n",
      "      Else (Sensor_ID_ohe_57 not in {0.0})\n",
      "       If (Time_ohe_12 in {0.0})\n",
      "        If (Day_ohe_Saturday in {0.0})\n",
      "         Predict: 0.0\n",
      "        Else (Day_ohe_Saturday not in {0.0})\n",
      "         Predict: 1.0\n",
      "       Else (Time_ohe_12 not in {0.0})\n",
      "        Predict: 1.0\n",
      "    Else (Previous_Hour_Counts > 1134.5)\n",
      "     If (Time_ohe_12 in {0.0})\n",
      "      If (Time_ohe_16 in {0.0})\n",
      "       Predict: 0.0\n",
      "      Else (Time_ohe_16 not in {0.0})\n",
      "       If (Sensor_ID_ohe_13 in {0.0})\n",
      "        If (Sensor_ID_ohe_9 in {0.0})\n",
      "         If (Sensor_ID_ohe_57 in {0.0})\n",
      "          Predict: 0.0\n",
      "         Else (Sensor_ID_ohe_57 not in {0.0})\n",
      "          Predict: 1.0\n",
      "        Else (Sensor_ID_ohe_9 not in {0.0})\n",
      "         Predict: 1.0\n",
      "       Else (Sensor_ID_ohe_13 not in {0.0})\n",
      "        Predict: 1.0\n",
      "     Else (Time_ohe_12 not in {0.0})\n",
      "      If (Previous_Hour_Counts <= 1246.5)\n",
      "       If (Sensor_ID_ohe_45 in {0.0})\n",
      "        If (Sensor_ID_ohe_3 in {0.0})\n",
      "         If (Sensor_ID_ohe_57 in {0.0})\n",
      "          Predict: 0.0\n",
      "         Else (Sensor_ID_ohe_57 not in {0.0})\n",
      "          Predict: 1.0\n",
      "        Else (Sensor_ID_ohe_3 not in {0.0})\n",
      "         If (Day_ohe_Sunday in {0.0})\n",
      "          Predict: 1.0\n",
      "         Else (Day_ohe_Sunday not in {0.0})\n",
      "          Predict: 0.0\n",
      "       Else (Sensor_ID_ohe_45 not in {0.0})\n",
      "        If (Day_ohe_Saturday in {0.0})\n",
      "         If (Day_ohe_Sunday in {0.0})\n",
      "          Predict: 1.0\n",
      "         Else (Day_ohe_Sunday not in {0.0})\n",
      "          Predict: 0.0\n",
      "        Else (Day_ohe_Saturday not in {0.0})\n",
      "         Predict: 0.0\n",
      "      Else (Previous_Hour_Counts > 1246.5)\n",
      "       If (Day_ohe_Saturday in {0.0})\n",
      "        If (Day_ohe_Sunday in {0.0})\n",
      "         If (Sensor_ID_ohe_5 in {0.0})\n",
      "          Predict: 1.0\n",
      "         Else (Sensor_ID_ohe_5 not in {0.0})\n",
      "          Predict: 0.0\n",
      "        Else (Day_ohe_Sunday not in {0.0})\n",
      "         Predict: 0.0\n",
      "       Else (Day_ohe_Saturday not in {0.0})\n",
      "        If (Sensor_ID_ohe_3 in {0.0})\n",
      "         Predict: 0.0\n",
      "        Else (Sensor_ID_ohe_3 not in {0.0})\n",
      "         If (Month_ohe_August in {0.0})\n",
      "          Predict: 0.0\n",
      "         Else (Month_ohe_August not in {0.0})\n",
      "          Predict: 1.0\n",
      "   Else (Previous_Hour_Counts > 1363.0)\n",
      "    If (Time_ohe_12 in {0.0})\n",
      "     If (Time_ohe_17 in {0.0})\n",
      "      If (Time_ohe_11 in {0.0})\n",
      "       If (Time_ohe_16 in {0.0})\n",
      "        Predict: 0.0\n",
      "       Else (Time_ohe_16 not in {0.0})\n",
      "        If (Previous_Hour_Counts <= 1813.5)\n",
      "         If (Sensor_ID_ohe_13 in {0.0})\n",
      "          Predict: 0.0\n",
      "         Else (Sensor_ID_ohe_13 not in {0.0})\n",
      "          Predict: 1.0\n",
      "        Else (Previous_Hour_Counts > 1813.5)\n",
      "         If (Day_ohe_Sunday in {0.0})\n",
      "          Predict: 1.0\n",
      "         Else (Day_ohe_Sunday not in {0.0})\n",
      "          Predict: 0.0\n",
      "      Else (Time_ohe_11 not in {0.0})\n",
      "       If (Sensor_ID_ohe_24 in {0.0})\n",
      "        If (Previous_Hour_Counts <= 1649.5)\n",
      "         If (Sensor_ID_ohe_1 in {0.0})\n",
      "          Predict: 0.0\n",
      "         Else (Sensor_ID_ohe_1 not in {0.0})\n",
      "          Predict: 1.0\n",
      "        Else (Previous_Hour_Counts > 1649.5)\n",
      "         Predict: 1.0\n",
      "       Else (Sensor_ID_ohe_24 not in {0.0})\n",
      "        If (Day_ohe_Sunday in {0.0})\n",
      "         Predict: 0.0\n",
      "        Else (Day_ohe_Sunday not in {0.0})\n",
      "         If (Previous_Hour_Counts <= 1813.5)\n",
      "          Predict: 0.0\n",
      "         Else (Previous_Hour_Counts > 1813.5)\n",
      "          Predict: 1.0\n",
      "     Else (Time_ohe_17 not in {0.0})\n",
      "      If (Day_ohe_Sunday in {0.0})\n",
      "       If (Day_ohe_Saturday in {0.0})\n",
      "        If (Sensor_ID_ohe_53 in {0.0})\n",
      "         If (Sensor_ID_ohe_2 in {0.0})\n",
      "          Predict: 1.0\n",
      "         Else (Sensor_ID_ohe_2 not in {0.0})\n",
      "          Predict: 0.0\n",
      "        Else (Sensor_ID_ohe_53 not in {0.0})\n",
      "         Predict: 0.0\n",
      "       Else (Day_ohe_Saturday not in {0.0})\n",
      "        If (Previous_Hour_Counts <= 1813.5)\n",
      "         Predict: 0.0\n",
      "        Else (Previous_Hour_Counts > 1813.5)\n",
      "         If (Sensor_ID_ohe_35 in {0.0})\n",
      "          Predict: 0.0\n",
      "         Else (Sensor_ID_ohe_35 not in {0.0})\n",
      "          Predict: 1.0\n",
      "      Else (Day_ohe_Sunday not in {0.0})\n",
      "       If (Sensor_ID_ohe_3 in {0.0})\n",
      "        If (Sensor_ID_ohe_12 in {0.0})\n",
      "         Predict: 0.0\n",
      "        Else (Sensor_ID_ohe_12 not in {0.0})\n",
      "         If (Previous_Hour_Counts <= 1486.5)\n",
      "          Predict: 0.0\n",
      "         Else (Previous_Hour_Counts > 1486.5)\n",
      "          Predict: 1.0\n",
      "       Else (Sensor_ID_ohe_3 not in {0.0})\n",
      "        If (Month_ohe_November in {0.0})\n",
      "         Predict: 0.0\n",
      "        Else (Month_ohe_November not in {0.0})\n",
      "         Predict: 1.0\n",
      "    Else (Time_ohe_12 not in {0.0})\n",
      "     If (Sensor_ID_ohe_26 in {0.0})\n",
      "      If (Previous_Hour_Counts <= 1649.5)\n",
      "       If (Day_ohe_Sunday in {0.0})\n",
      "        If (Day_ohe_Saturday in {0.0})\n",
      "         If (Sensor_ID_ohe_5 in {0.0})\n",
      "          Predict: 1.0\n",
      "         Else (Sensor_ID_ohe_5 not in {0.0})\n",
      "          Predict: 0.0\n",
      "        Else (Day_ohe_Saturday not in {0.0})\n",
      "         If (Sensor_ID_ohe_3 in {0.0})\n",
      "          Predict: 0.0\n",
      "         Else (Sensor_ID_ohe_3 not in {0.0})\n",
      "          Predict: 1.0\n",
      "       Else (Day_ohe_Sunday not in {0.0})\n",
      "        If (Sensor_ID_ohe_3 in {0.0})\n",
      "         Predict: 0.0\n",
      "        Else (Sensor_ID_ohe_3 not in {0.0})\n",
      "         If (Month_ohe_December in {0.0})\n",
      "          Predict: 1.0\n",
      "         Else (Month_ohe_December not in {0.0})\n",
      "          Predict: 0.0\n",
      "      Else (Previous_Hour_Counts > 1649.5)\n",
      "       If (Sensor_ID_ohe_6 in {0.0})\n",
      "        If (Sensor_ID_ohe_28 in {0.0})\n",
      "         If (Sensor_ID_ohe_7 in {0.0})\n",
      "          Predict: 1.0\n",
      "         Else (Sensor_ID_ohe_7 not in {0.0})\n",
      "          Predict: 0.0\n",
      "        Else (Sensor_ID_ohe_28 not in {0.0})\n",
      "         If (Month_ohe_November in {0.0})\n",
      "          Predict: 1.0\n",
      "         Else (Month_ohe_November not in {0.0})\n",
      "          Predict: 0.0\n",
      "       Else (Sensor_ID_ohe_6 not in {0.0})\n",
      "        If (Day_ohe_Saturday in {0.0})\n",
      "         If (Day_ohe_Sunday in {0.0})\n",
      "          Predict: 1.0\n",
      "         Else (Day_ohe_Sunday not in {0.0})\n",
      "          Predict: 0.0\n",
      "        Else (Day_ohe_Saturday not in {0.0})\n",
      "         If (Month_ohe_March in {0.0})\n",
      "          Predict: 0.0\n",
      "         Else (Month_ohe_March not in {0.0})\n",
      "          Predict: 1.0\n",
      "     Else (Sensor_ID_ohe_26 not in {0.0})\n",
      "      If (Day_ohe_Friday in {0.0})\n",
      "       If (Previous_Hour_Counts <= 1813.5)\n",
      "        If (Day_ohe_Tuesday in {0.0})\n",
      "         If (Day_ohe_Thursday in {0.0})\n",
      "          Predict: 0.0\n",
      "         Else (Day_ohe_Thursday not in {0.0})\n",
      "          Predict: 1.0\n",
      "        Else (Day_ohe_Tuesday not in {0.0})\n",
      "         If (Month_ohe_December in {0.0})\n",
      "          Predict: 1.0\n",
      "         Else (Month_ohe_December not in {0.0})\n",
      "          Predict: 0.0\n",
      "       Else (Previous_Hour_Counts > 1813.5)\n",
      "        If (Month_ohe_July in {0.0})\n",
      "         If (Month_ohe_November in {0.0})\n",
      "          Predict: 1.0\n",
      "         Else (Month_ohe_November not in {0.0})\n",
      "          Predict: 0.0\n",
      "        Else (Month_ohe_July not in {0.0})\n",
      "         Predict: 0.0\n",
      "      Else (Day_ohe_Friday not in {0.0})\n",
      "       If (Month_ohe_November in {0.0})\n",
      "        If (Month_ohe_June in {0.0})\n",
      "         Predict: 1.0\n",
      "        Else (Month_ohe_June not in {0.0})\n",
      "         If (Previous_Hour_Counts <= 1486.5)\n",
      "          Predict: 1.0\n",
      "         Else (Previous_Hour_Counts > 1486.5)\n",
      "          Predict: 0.0\n",
      "       Else (Month_ohe_November not in {0.0})\n",
      "        Predict: 0.0\n",
      "  Else (Previous_Hour_Counts > 2003.5)\n",
      "   If (Previous_Hour_Counts <= 2513.0)\n",
      "    If (Time_ohe_19 in {0.0})\n",
      "     If (Time_ohe_18 in {0.0})\n",
      "      If (Time_ohe_20 in {0.0})\n",
      "       If (Time_ohe_9 in {0.0})\n",
      "        If (Time_ohe_10 in {0.0})\n",
      "         If (Time_ohe_14 in {0.0})\n",
      "          Predict: 1.0\n",
      "         Else (Time_ohe_14 not in {0.0})\n",
      "          Predict: 0.0\n",
      "        Else (Time_ohe_10 not in {0.0})\n",
      "         If (Sensor_ID_ohe_41 in {0.0})\n",
      "          Predict: 0.0\n",
      "         Else (Sensor_ID_ohe_41 not in {0.0})\n",
      "          Predict: 1.0\n",
      "       Else (Time_ohe_9 not in {0.0})\n",
      "        If (Sensor_ID_ohe_41 in {0.0})\n",
      "         If (Sensor_ID_ohe_38 in {0.0})\n",
      "          Predict: 0.0\n",
      "         Else (Sensor_ID_ohe_38 not in {0.0})\n",
      "          Predict: 1.0\n",
      "        Else (Sensor_ID_ohe_41 not in {0.0})\n",
      "         If (Month_ohe_June in {0.0})\n",
      "          Predict: 1.0\n",
      "         Else (Month_ohe_June not in {0.0})\n",
      "          Predict: 0.0\n",
      "      Else (Time_ohe_20 not in {0.0})\n",
      "       If (Previous_Hour_Counts <= 2241.5)\n",
      "        If (Month_ohe_December in {0.0})\n",
      "         Predict: 0.0\n",
      "        Else (Month_ohe_December not in {0.0})\n",
      "         If (Sensor_ID_ohe_3 in {0.0})\n",
      "          Predict: 0.0\n",
      "         Else (Sensor_ID_ohe_3 not in {0.0})\n",
      "          Predict: 1.0\n",
      "       Else (Previous_Hour_Counts > 2241.5)\n",
      "        If (Sensor_ID_ohe_3 in {0.0})\n",
      "         If (Month_ohe_December in {0.0})\n",
      "          Predict: 0.0\n",
      "         Else (Month_ohe_December not in {0.0})\n",
      "          Predict: 1.0\n",
      "        Else (Sensor_ID_ohe_3 not in {0.0})\n",
      "         Predict: 1.0\n",
      "     Else (Time_ohe_18 not in {0.0})\n",
      "      If (Sensor_ID_ohe_3 in {0.0})\n",
      "       If (Day_ohe_Saturday in {0.0})\n",
      "        If (Day_ohe_Friday in {0.0})\n",
      "         If (Sensor_ID_ohe_35 in {0.0})\n",
      "          Predict: 0.0\n",
      "         Else (Sensor_ID_ohe_35 not in {0.0})\n",
      "          Predict: 1.0\n",
      "        Else (Day_ohe_Friday not in {0.0})\n",
      "         Predict: 0.0\n",
      "       Else (Day_ohe_Saturday not in {0.0})\n",
      "        If (Sensor_ID_ohe_2 in {0.0})\n",
      "         If (Previous_Hour_Counts <= 2241.5)\n",
      "          Predict: 0.0\n",
      "         Else (Previous_Hour_Counts > 2241.5)\n",
      "          Predict: 1.0\n",
      "        Else (Sensor_ID_ohe_2 not in {0.0})\n",
      "         Predict: 0.0\n",
      "      Else (Sensor_ID_ohe_3 not in {0.0})\n",
      "       If (Previous_Hour_Counts <= 2241.5)\n",
      "        If (Day_ohe_Monday in {0.0})\n",
      "         Predict: 1.0\n",
      "        Else (Day_ohe_Monday not in {0.0})\n",
      "         If (Month_ohe_April in {0.0})\n",
      "          Predict: 0.0\n",
      "         Else (Month_ohe_April not in {0.0})\n",
      "          Predict: 1.0\n",
      "       Else (Previous_Hour_Counts > 2241.5)\n",
      "        If (Month_ohe_February in {0.0})\n",
      "         Predict: 1.0\n",
      "        Else (Month_ohe_February not in {0.0})\n",
      "         If (Day_ohe_Sunday in {0.0})\n",
      "          Predict: 1.0\n",
      "         Else (Day_ohe_Sunday not in {0.0})\n",
      "          Predict: 0.0\n",
      "    Else (Time_ohe_19 not in {0.0})\n",
      "     If (Sensor_ID_ohe_3 in {0.0})\n",
      "      If (Day_ohe_Saturday in {0.0})\n",
      "       If (Sensor_ID_ohe_28 in {0.0})\n",
      "        If (Day_ohe_Sunday in {0.0})\n",
      "         If (Sensor_ID_ohe_7 in {0.0})\n",
      "          Predict: 0.0\n",
      "         Else (Sensor_ID_ohe_7 not in {0.0})\n",
      "          Predict: 1.0\n",
      "        Else (Day_ohe_Sunday not in {0.0})\n",
      "         Predict: 0.0\n",
      "       Else (Sensor_ID_ohe_28 not in {0.0})\n",
      "        If (Day_ohe_Friday in {0.0})\n",
      "         Predict: 0.0\n",
      "        Else (Day_ohe_Friday not in {0.0})\n",
      "         If (Month_ohe_November in {0.0})\n",
      "          Predict: 0.0\n",
      "         Else (Month_ohe_November not in {0.0})\n",
      "          Predict: 1.0\n",
      "      Else (Day_ohe_Saturday not in {0.0})\n",
      "       If (Previous_Hour_Counts <= 2241.5)\n",
      "        If (Sensor_ID_ohe_5 in {0.0})\n",
      "         If (Sensor_ID_ohe_35 in {0.0})\n",
      "          Predict: 0.0\n",
      "         Else (Sensor_ID_ohe_35 not in {0.0})\n",
      "          Predict: 1.0\n",
      "        Else (Sensor_ID_ohe_5 not in {0.0})\n",
      "         If (Month_ohe_October in {0.0})\n",
      "          Predict: 0.0\n",
      "         Else (Month_ohe_October not in {0.0})\n",
      "          Predict: 1.0\n",
      "       Else (Previous_Hour_Counts > 2241.5)\n",
      "        If (Sensor_ID_ohe_1 in {0.0})\n",
      "         Predict: 1.0\n",
      "        Else (Sensor_ID_ohe_1 not in {0.0})\n",
      "         If (Month_ohe_December in {0.0})\n",
      "          Predict: 0.0\n",
      "         Else (Month_ohe_December not in {0.0})\n",
      "          Predict: 1.0\n",
      "     Else (Sensor_ID_ohe_3 not in {0.0})\n",
      "      If (Previous_Hour_Counts <= 2241.5)\n",
      "       If (Day_ohe_Saturday in {0.0})\n",
      "        If (Day_ohe_Sunday in {0.0})\n",
      "         Predict: 0.0\n",
      "        Else (Day_ohe_Sunday not in {0.0})\n",
      "         If (Month_ohe_August in {0.0})\n",
      "          Predict: 1.0\n",
      "         Else (Month_ohe_August not in {0.0})\n",
      "          Predict: 0.0\n",
      "       Else (Day_ohe_Saturday not in {0.0})\n",
      "        Predict: 1.0\n",
      "      Else (Previous_Hour_Counts > 2241.5)\n",
      "       If (Day_ohe_Saturday in {0.0})\n",
      "        If (Day_ohe_Thursday in {0.0})\n",
      "         Predict: 1.0\n",
      "        Else (Day_ohe_Thursday not in {0.0})\n",
      "         If (Month_ohe_September in {0.0})\n",
      "          Predict: 1.0\n",
      "         Else (Month_ohe_September not in {0.0})\n",
      "          Predict: 0.0\n",
      "       Else (Day_ohe_Saturday not in {0.0})\n",
      "        If (Month_ohe_March in {0.0})\n",
      "         Predict: 1.0\n",
      "        Else (Month_ohe_March not in {0.0})\n",
      "         Predict: 0.0\n",
      "   Else (Previous_Hour_Counts > 2513.0)\n",
      "    If (Sensor_ID_ohe_9 in {0.0})\n",
      "     If (Time_ohe_19 in {0.0})\n",
      "      If (Sensor_ID_ohe_13 in {0.0})\n",
      "       If (Time_ohe_9 in {0.0})\n",
      "        If (Time_ohe_10 in {0.0})\n",
      "         Predict: 1.0\n",
      "        Else (Time_ohe_10 not in {0.0})\n",
      "         If (Sensor_ID_ohe_38 in {0.0})\n",
      "          Predict: 0.0\n",
      "         Else (Sensor_ID_ohe_38 not in {0.0})\n",
      "          Predict: 1.0\n",
      "       Else (Time_ohe_9 not in {0.0})\n",
      "        If (Previous_Hour_Counts <= 3362.5)\n",
      "         If (Sensor_ID_ohe_38 in {0.0})\n",
      "          Predict: 0.0\n",
      "         Else (Sensor_ID_ohe_38 not in {0.0})\n",
      "          Predict: 1.0\n",
      "        Else (Previous_Hour_Counts > 3362.5)\n",
      "         Predict: 1.0\n",
      "      Else (Sensor_ID_ohe_13 not in {0.0})\n",
      "       If (Time_ohe_18 in {0.0})\n",
      "        If (Time_ohe_10 in {0.0})\n",
      "         If (Month_ohe_January in {0.0})\n",
      "          Predict: 1.0\n",
      "         Else (Month_ohe_January not in {0.0})\n",
      "          Predict: 0.0\n",
      "        Else (Time_ohe_10 not in {0.0})\n",
      "         Predict: 0.0\n",
      "       Else (Time_ohe_18 not in {0.0})\n",
      "        If (Previous_Hour_Counts <= 5626.5)\n",
      "         Predict: 0.0\n",
      "        Else (Previous_Hour_Counts > 5626.5)\n",
      "         Predict: 1.0\n",
      "     Else (Time_ohe_19 not in {0.0})\n",
      "      If (Previous_Hour_Counts <= 3362.5)\n",
      "       If (Sensor_ID_ohe_24 in {0.0})\n",
      "        If (Sensor_ID_ohe_6 in {0.0})\n",
      "         Predict: 1.0\n",
      "        Else (Sensor_ID_ohe_6 not in {0.0})\n",
      "         If (Day_ohe_Friday in {0.0})\n",
      "          Predict: 0.0\n",
      "         Else (Day_ohe_Friday not in {0.0})\n",
      "          Predict: 1.0\n",
      "       Else (Sensor_ID_ohe_24 not in {0.0})\n",
      "        Predict: 0.0\n",
      "      Else (Previous_Hour_Counts > 3362.5)\n",
      "       If (Sensor_ID_ohe_7 in {0.0})\n",
      "        Predict: 1.0\n",
      "       Else (Sensor_ID_ohe_7 not in {0.0})\n",
      "        If (Month_ohe_April in {0.0})\n",
      "         Predict: 1.0\n",
      "        Else (Month_ohe_April not in {0.0})\n",
      "         If (Day_ohe_Friday in {0.0})\n",
      "          Predict: 0.0\n",
      "         Else (Day_ohe_Friday not in {0.0})\n",
      "          Predict: 1.0\n",
      "    Else (Sensor_ID_ohe_9 not in {0.0})\n",
      "     If (Time_ohe_17 in {0.0})\n",
      "      If (Previous_Hour_Counts <= 3362.5)\n",
      "       If (Time_ohe_13 in {0.0})\n",
      "        Predict: 0.0\n",
      "       Else (Time_ohe_13 not in {0.0})\n",
      "        Predict: 1.0\n",
      "      Else (Previous_Hour_Counts > 3362.5)\n",
      "       If (Time_ohe_9 in {0.0})\n",
      "        Predict: 0.0\n",
      "       Else (Time_ohe_9 not in {0.0})\n",
      "        If (Month_ohe_January in {0.0})\n",
      "         Predict: 1.0\n",
      "        Else (Month_ohe_January not in {0.0})\n",
      "         Predict: 0.0\n",
      "     Else (Time_ohe_17 not in {0.0})\n",
      "      Predict: 1.0\n",
      "\n",
      "\n"
     ]
    }
   ],
   "source": [
    "# Reference: https://medium.com/@dipaweshpawar/decoding-decision-tree-in-pyspark-bdd98dcd1ddf\n",
    "def createFeatureDictionary(predictions, featuresCol):\n",
    "    '''\n",
    "    This function creates a dictionary with feature number as key and\n",
    "    feature name as value. It uses the dataframe in which the features\n",
    "    for prediction are present after vector assembling and the predicted\n",
    "    values are present in the prediction column.\n",
    "    \n",
    "    The input params:\n",
    "    1. predictions: The dataframe in which the features for prediction\n",
    "                    are present after vector assembling and the predicted\n",
    "                    values are present in the prediction column.\n",
    "    2. featuresCol: The name of vector assembled feature containing all the\n",
    "                    features to be used for prediction.\n",
    "    '''\n",
    "    \n",
    "    # Initializing the dictionary\n",
    "    feature_dict = {}\n",
    "    \n",
    "    # Getting the metadata from the predictions dataframe\n",
    "    metadata_dict = predictions.schema[featuresCol].metadata[\"ml_attr\"][\"attrs\"]\n",
    "\n",
    "    # Lopping over the metadata dictionary\n",
    "    for meta_type, meta_list_dict in metadata_dict.items():\n",
    "        \n",
    "        # Looping over feature dictionary\n",
    "        for m in meta_list_dict:\n",
    "            # Getting the index value of the feature\n",
    "            index_val = m['idx']\n",
    "            # Getting the feature name\n",
    "            feature_name = m['name']\n",
    "            # Adding the feature to the dictionary\n",
    "            feature_dict[index_val] = feature_name\n",
    "    \n",
    "    return feature_dict\n",
    "\n",
    "\n",
    "def printSplittingCrieria(pipeline_model, col_dict):\n",
    "    '''\n",
    "    This function modifies the splitting criteria in a more readable manner\n",
    "    so that general public can read it and make sense of it.\n",
    "    \n",
    "    The input params:\n",
    "    1. pipeline_model: The pipeline model object.\n",
    "    2. col_dict: This is the feature number mapping to feature name dictionary.\n",
    "    '''\n",
    "    \n",
    "    # Getting the rules' string from the model\n",
    "    splt_string = pipeline_model.stages[-1].toDebugString\n",
    "    \n",
    "    # Splitting the rules' string on every line\n",
    "    list_str = splt_string.split('\\n')\n",
    "    \n",
    "    # Initializing a new list\n",
    "    new_list = []\n",
    "    \n",
    "    # Looping over the list of strings list_str\n",
    "    for str_el in list_str:\n",
    "        \n",
    "        # Initializing a new string\n",
    "        new_str = ''\n",
    "        \n",
    "        # Using regex to get the number from string\n",
    "        f_list = re.findall(r'feature ([0-9]+)', str_el)\n",
    "        \n",
    "        # Check if the list is empty or not\n",
    "        if f_list:\n",
    "            \n",
    "            # Converting the number string into integer\n",
    "            f = int(f_list[0])\n",
    "        \n",
    "            # Getting the column name form the dictionary\n",
    "            col_name = col_dict[f]\n",
    "\n",
    "            # Substituting the string feature number with the column name\n",
    "            new_str = re.sub(r'(feature [0-9]+)', col_name, str_el)\n",
    "\n",
    "            # Adding new line to the string\n",
    "            new_str = new_str + '\\n'\n",
    "        \n",
    "        # If the new_str is empty\n",
    "        if new_str == '':\n",
    "            # Add new line to the existing line string\n",
    "            str_el = str_el + '\\n'\n",
    "            # Append it to the list\n",
    "            new_list.append(str_el)\n",
    "        \n",
    "        else:\n",
    "            # Else append new_str to the new_list \n",
    "            new_list.append(new_str)\n",
    "    \n",
    "    # Finally from the new_list list object create a string\n",
    "    crt_str = ''.join(new_list)\n",
    "    \n",
    "    return crt_str\n",
    "\n",
    "# Printing the splitting criteria\n",
    "print(printSplittingCrieria(dtcf_model,createFeatureDictionary(dtcf_Predictions, 'features_cf')))"
   ]
  },
  {
   "cell_type": "markdown",
   "metadata": {},
   "source": [
    "Now we need to display the top-3 features that have been selected by the model. For this we would need to create a **getVariableImportance()** function as coded below."
   ]
  },
  {
   "cell_type": "code",
   "execution_count": 118,
   "metadata": {},
   "outputs": [
    {
     "data": {
      "text/html": [
       "<div>\n",
       "<style scoped>\n",
       "    .dataframe tbody tr th:only-of-type {\n",
       "        vertical-align: middle;\n",
       "    }\n",
       "\n",
       "    .dataframe tbody tr th {\n",
       "        vertical-align: top;\n",
       "    }\n",
       "\n",
       "    .dataframe thead th {\n",
       "        text-align: right;\n",
       "    }\n",
       "</style>\n",
       "<table border=\"1\" class=\"dataframe\">\n",
       "  <thead>\n",
       "    <tr style=\"text-align: right;\">\n",
       "      <th></th>\n",
       "      <th>idx</th>\n",
       "      <th>name</th>\n",
       "      <th>score</th>\n",
       "    </tr>\n",
       "  </thead>\n",
       "  <tbody>\n",
       "    <tr>\n",
       "      <th>0</th>\n",
       "      <td>0</td>\n",
       "      <td>Previous_Hour_Counts</td>\n",
       "      <td>0.801491</td>\n",
       "    </tr>\n",
       "    <tr>\n",
       "      <th>28</th>\n",
       "      <td>28</td>\n",
       "      <td>Time_ohe_12</td>\n",
       "      <td>0.043905</td>\n",
       "    </tr>\n",
       "    <tr>\n",
       "      <th>30</th>\n",
       "      <td>30</td>\n",
       "      <td>Time_ohe_19</td>\n",
       "      <td>0.013992</td>\n",
       "    </tr>\n",
       "  </tbody>\n",
       "</table>\n",
       "</div>"
      ],
      "text/plain": [
       "    idx                  name     score\n",
       "0     0  Previous_Hour_Counts  0.801491\n",
       "28   28           Time_ohe_12  0.043905\n",
       "30   30           Time_ohe_19  0.013992"
      ]
     },
     "execution_count": 118,
     "metadata": {},
     "output_type": "execute_result"
    }
   ],
   "source": [
    "# Reference: https://www.timlrx.com/blog/feature-selection-using-feature-importance-score-creating-a-pyspark-estimator\n",
    "def getVariableImportance(pipelineModel, predictions, featuresCol,n):\n",
    "    '''\n",
    "    This function will display the variable importance for top-n features.\n",
    "    The input params:\n",
    "    1. pipelineModel: This is the pipeline model object.\n",
    "    2. predictions: The dataframe in which the features for prediction\n",
    "                    are present after vector assembling and the predicted\n",
    "                    values are present in the prediction column.\n",
    "    3. featuresCol: The name of vector assembled feature containing all the\n",
    "                    features to be used for prediction.\n",
    "    4. n: Number of features required to display.\n",
    "    '''\n",
    "    \n",
    "    # Getting the feature importance for the featureImportances API of the model\n",
    "    f_imp = pipelineModel.stages[-1].featureImportances\n",
    "    \n",
    "    # Initializing the list\n",
    "    dict_list = []\n",
    "    for i in predictions.schema[featuresCol].metadata[\"ml_attr\"][\"attrs\"]:\n",
    "        # list_extract = list_extract + predictions.schema[featuresCol].metadata[\"ml_attr\"][\"attrs\"][i]\n",
    "        dict_list.extend(dtcf_Predictions.schema['features_cf'].metadata[\"ml_attr\"][\"attrs\"][i])\n",
    "    \n",
    "    # Creating the dataframe from the list\n",
    "    list_df = pd.DataFrame(dict_list)\n",
    "    \n",
    "    # Creatinga score column form the feature importance list\n",
    "    list_df['score'] = list_df['idx'].apply(lambda x: f_imp[x])\n",
    "    \n",
    "    \n",
    "    return(list_df.sort_values('score', ascending = False).head(n))\n",
    "\n",
    "getVariableImportance(dtcf_model, dtcf_Predictions, 'features_cf',3)"
   ]
  },
  {
   "cell_type": "markdown",
   "metadata": {},
   "source": [
    "## Part 2.4.4 <a class=\"anchor\" name=\"2.4.4\"></a>"
   ]
  },
  {
   "cell_type": "markdown",
   "metadata": {},
   "source": [
    "In this section some suggestions to improve the model would be given and for two of the techniques the code snippets would be provided:\n",
    "\n",
    "**Suggestions**\n",
    "1. **Seasonal Influence**: The pedestrian counts threshold can be influenced by the seasons therefore the seasons can be added in the model. This feature can be created on the basis of months like:\n",
    "    * December to February - Summer: In the peak of summers the number of pedestrians would be less so the summer season can be divided further into two parts peak summers and non-peak summers.\n",
    "    * March to May - Autumn: Here the counts would be able to follow the normal trend as the weather would not be showing extreme conditions.\n",
    "    * June to August - Winter: Just like in summers, in the peak of winters the number of pedestrians would be less so the winter season can be divided further into two parts peak winters and non-peak winters.\n",
    "    * September to November - Spring: Here the counts would be able to follow the normal trend as the weather would not be showing extreme conditions.\n",
    "    \n",
    "    Also some festivals are celebrated as per the seasons and therefore it might show a trend which would definitely help in imporving the predictions. The seasons column can further be used as a categorical column and can be transformed using the StringIndexer and One-Hot Encoding and thencan be assembled with other features using the Vector Assembler.\n",
    "   \n",
    "    Code snippets to create the feature:\n",
    "    \n",
    "            df = df.withColumn('seasonal_influence', when(col(MonthNum).isin([1,2]), 'PeakSummer')\n",
    "                                                    .when(col(MonthNum) == 12, 'NonPeakSummer')\n",
    "                                                    .when(col(MonthNum).isin([7,8]), 'PeakWinter')\n",
    "                                                    .when(col(MonthNum) == 6, 'NonPeakWinter')\n",
    "                                                    .when((col(MonthNum) >= 3) & (col(MonthNum) <= 5), 'Autumn')\n",
    "                                                    .when((col(MonthNum) >= 9) & (col(MonthNum) <= 11), 'Spring')\n",
    "                                                    .otherwise(None)\n",
    "                                          )\n",
    "\n",
    "<br>\n",
    "\n",
    "2. **Using Cross-Validation**: The cross-validation technique is a very good way to improve the model performance. Through this technique the grid-search can be implemented. Various values for the hyperparameters can be provided after which this technique will work to find the best best model and best hyperparameters.\n",
    "\n",
    "    Code snippets for cross-validation for Decision Tree Model:<br>\n",
    "    We would need to import the ParamGridBuilder, CrossValidator, CrossValidatorMode modules. After which a set of parameters can be provided which would be fitted in the model iteratively following which the best parameters would be returned. \n",
    "        \n",
    "        param_grid = (ParamGridBuilder()\n",
    "                      .addGrid(maxDepth, [2, 5, 10, 20, 30, 50])\n",
    "                      .addGrid(maxBins, [10, 20, 30, 50, 70, 100])\n",
    "                      .build())\n",
    "        \n",
    "    Further the cross-validator object can be created which would iteratively create the models and return the best model and best params.\n",
    "        \n",
    "        dtcv = CrossValidator(estimator = pipeline,\n",
    "                      estimatorParamMaps = param_grid,\n",
    "                      evaluator = binaryevaluator,\n",
    "                      numFolds = 5)\n",
    "                      \n",
    "    The only con with the cross-validation technique is that it takes a lot of time to complete and is resource intensive too.\n",
    "\n",
    "<br>\n",
    "\n",
    "3. **XGBoost Model**: In this assignment we are using the Gradient Boosting Trees algorithm. There isn't a single model which can be said to be the best but the XGBoost model experimentally has performed very well to predicted binary classification usecases. Therefore, this model can be used in usecase-1 of our assignment. And then further the hyperparameter tuning can be performed to find the best combination. The ways in which it can help in improving the model are:\n",
    "    * It has in-built regularization which would help in avoidin over-fitting\n",
    "    * It also has non-greedy tree pruning, etc.\n",
    "\n",
    "<br>\n",
    "\n",
    "4. **Blending Models**: As the single models work only in a certain way as the algorithm is static. Therefore, it would really help if we can combine the results from various models. We can combine the resultsin various ways like:\n",
    "    * We can take mode of the results\n",
    "    * We can take the mean and then convert them into 0 or 1.\n",
    "    * We can also take weighted mean if we think a certain model is performing much better than the other models and then convert them into 0 or 1."
   ]
  },
  {
   "cell_type": "markdown",
   "metadata": {},
   "source": [
    "## Part 2.4.5 <a class=\"anchor\" name=\"2.4.5\"></a>"
   ]
  },
  {
   "cell_type": "markdown",
   "metadata": {},
   "source": [
    "In this section we will use the pipeline object for the second usecase. The following steps will be performed in the pipeline:\n",
    "1. String Indexing of the string columns\n",
    "2. One-Hot Encoding of the string columns except the label column\n",
    "3. Vector Assembling of the features so that they can be used by the model\n",
    "4. Building the Decision Tree/GB Tree regression model."
   ]
  },
  {
   "cell_type": "markdown",
   "metadata": {},
   "source": [
    "Next we need to fit the training data on the Decision Tree regression model pipeline."
   ]
  },
  {
   "cell_type": "code",
   "execution_count": 119,
   "metadata": {},
   "outputs": [],
   "source": [
    "# Fitting the training data on the Decision Tree Regression model pipeline\n",
    "dtreg_model = dtreg_pipeline.fit(reg_train_df)\n",
    "\n",
    "# After getting the pipeline model object we can now make predictions\n",
    "# on the test data\n",
    "dtreg_Predictions = dtreg_model.transform(reg_test_df)"
   ]
  },
  {
   "cell_type": "markdown",
   "metadata": {},
   "source": [
    "Next we need to fit the training data on the GB Tree regression model pipeline."
   ]
  },
  {
   "cell_type": "code",
   "execution_count": 120,
   "metadata": {},
   "outputs": [],
   "source": [
    "# Fitting the training data on the GB Tree Regression model pipeline\n",
    "gbtreg_model = gbtreg_pipeline.fit(reg_train_df)\n",
    "\n",
    "# After getting the pipeline model object we can now make predictions\n",
    "# on the test data\n",
    "gbtreg_Predictions = gbtreg_model.transform(reg_test_df)"
   ]
  },
  {
   "cell_type": "markdown",
   "metadata": {},
   "source": [
    "## Part 2.4.6 <a class=\"anchor\" name=\"2.4.6\"></a>"
   ]
  },
  {
   "cell_type": "code",
   "execution_count": 121,
   "metadata": {},
   "outputs": [],
   "source": [
    "def compute_metrics_reg(predictions, model_name):\n",
    "    \n",
    "    rmse_obj = RegressionEvaluator(metricName = 'rmse', predictionCol = 'prediction', labelCol = 'target')\n",
    "    \n",
    "    rsquared_obj = RegressionEvaluator(metricName = 'r2', predictionCol = 'prediction', labelCol = 'target')\n",
    "    \n",
    "    print(model_name, 'Metrics:\\nRMSE Score:',\\\n",
    "          str(rmse_obj.evaluate(predictions))+ '\\nR-Squared Value:',\\\n",
    "          str(rsquared_obj.evaluate(predictions)))"
   ]
  },
  {
   "cell_type": "code",
   "execution_count": 122,
   "metadata": {},
   "outputs": [
    {
     "name": "stdout",
     "output_type": "stream",
     "text": [
      "Decision Tree Regression Model Metrics:\n",
      "RMSE Score: 78.76087968701704\n",
      "R-Squared Value: 0.991871497961497\n"
     ]
    }
   ],
   "source": [
    "compute_metrics_reg(dtreg_Predictions, 'Decision Tree Regression Model')"
   ]
  },
  {
   "cell_type": "code",
   "execution_count": 123,
   "metadata": {},
   "outputs": [
    {
     "name": "stdout",
     "output_type": "stream",
     "text": [
      "GB Tree Regression Model Metrics:\n",
      "RMSE Score: 105.42473998513337\n",
      "R-Squared Value: 0.9854362075954333\n"
     ]
    }
   ],
   "source": [
    "compute_metrics_reg(gbtreg_Predictions, 'GB Tree Regression Model')"
   ]
  },
  {
   "cell_type": "markdown",
   "metadata": {},
   "source": [
    "Let's discuss the metrics below:\n",
    "* **RMSE Score**: The **RMSE Score** score basically measures the difference between the error for each of the predicted and actual value. The formula is given by:\n",
    "\n",
    "$$RMSE = \\sqrt{\\frac{\\sum_{i=1}^N{(x_i - \\hat{x})^2}}{N}}$$\n",
    "\n",
    "* **R-Squared Value**: **R-Squared Value** is the proportion of the data explained by the model. It is given by:\n",
    "\n",
    "$$R^2 = 1- \\left(\\frac{sum\\ of\\ squares\\ of\\ residuals}{total\\ sum\\ of\\ squares}\\right)$$\n",
    "\n",
    "To arrive at a better model the metric that should be chosen is RMSE Score because the R-Squared value though works in many cases but is misleading too because its value increases as the number of features increase. Therefore, the better metric to use would be the RMSE score.\n",
    "\n",
    "The metrics that we need to look at is RMSE Score:<br><br>\n",
    "Decision Tree regression model:\n",
    "* RMSE Score - 78.76087968701704\n",
    "\n",
    "GBT Tree regression model:\n",
    "* RMSE Score - 105.42473998513337\n",
    "\n",
    "Out of the metrics for the two models the RMSE Score for the Decision Tree model is lesser than the RMSE Score for the GBT Tree model, which means there is less error in the precition values of the Decision Tree model and hence it is the preferred model. In the next step we will persist the Decision Tree regression model.\n",
    "\n",
    "**Note: The RMSE scores are subject to change as the algorithms try to find minimumize the cost function and might be able to find different minimas each time.**"
   ]
  },
  {
   "cell_type": "code",
   "execution_count": 124,
   "metadata": {},
   "outputs": [],
   "source": [
    "dtreg_model.stages[-1].save('agoy0005_DT_RegressionModel_For_Pedestrian_Count_Prediction')"
   ]
  },
  {
   "cell_type": "markdown",
   "metadata": {},
   "source": [
    "## 3. Comparison <a class=\"anchor\" name=\"three\"></a>"
   ]
  },
  {
   "cell_type": "markdown",
   "metadata": {},
   "source": [
    "## Part 3.1 <a class=\"anchor\" name=\"3.1\"></a>"
   ]
  },
  {
   "cell_type": "code",
   "execution_count": 3,
   "metadata": {},
   "outputs": [],
   "source": [
    "from pyspark.ml.clustering import KMeans\n",
    "\n",
    "\n",
    "customer_df = spark.createDataFrame([\n",
    "    (0,19,15,39),\n",
    "    (0,21,15,81), \n",
    "    (1,20,16,6),\n",
    "    (1,23,16,77), \n",
    "    (1,31,17,40),\n",
    "    (1,22,17,76),\n",
    "    (1,35,18,6), \n",
    "    (1,23,18,94),\n",
    "    (0,64,19,3), \n",
    "    (1,30,19,72),\n",
    "    (0,67,19,14),\n",
    "    (1,35,19,99), \n",
    "    (1,58,20,15)], \n",
    "    ['gender', 'age', 'annual_income', 'spending_score']) \n",
    "\n",
    "assembler = VectorAssembler(\n",
    "    inputCols=['gender', 'age', 'annual_income', 'spending_score'], \n",
    "    outputCol='features')\n",
    "kmeans = KMeans(k=4).fit(assembler.transform(customer_df)) "
   ]
  },
  {
   "attachments": {
    "Kmeans_Jobs_new.PNG": {
     "image/png": "[encoded data removed]"
    }
   },
   "cell_type": "markdown",
   "metadata": {},
   "source": [
    "![Kmeans_Jobs_new.PNG](attachment:Kmeans_Jobs_new.PNG)"
   ]
  },
  {
   "cell_type": "markdown",
   "metadata": {},
   "source": [
    "It is evident by the above screenshot that for the given code for **KMeans clustering model** a total of **10 jobs** got executed in spark.\n",
    "\n",
    "These 10 jobs contain a total of **12 stages**.\n",
    "\n",
    "There are **2 processors** running on the linux server."
   ]
  },
  {
   "cell_type": "markdown",
   "metadata": {},
   "source": [
    "## Part 3.2 <a class=\"anchor\" name=\"3.2\"></a>"
   ]
  },
  {
   "cell_type": "markdown",
   "metadata": {},
   "source": [
    "## Algorithm Used\n",
    "\n",
    "### Data Parallelism\n",
    "After executing the above given code it is requited to carefully go through the steps used to perform clustering. The main steps are the following:\n",
    "* Partioning the data to be clustered on the two available processors.\n",
    "* The data is getting mapped and combined(zipped) on an intra-processor basis i.e. inside the processors and not inter-processor basis which is done in case of the result parallelism technique.\n",
    "* Then the shuffling/reducebykey takes place to merge the clusters obtained from different processors.\n",
    "* Finally the results/clusters get collected.\n",
    "\n",
    "The above steps follow the data parallelism technique and hence spark is following data parallelism in this case.\n",
    "\n",
    "## Cost Comparison between Result and Data Parallelism\n",
    "* In case of result parallelism the whole of the data is shuffled across processors therefore it might have an overhead in traffic whereas in case of data parallelism only intra-processor data transfer takes place which is much less expensive. In case of data parallelism the distinct centroids are broadcasted which is very light on resource consumption."
   ]
  }
 ],
 "metadata": {
  "kernelspec": {
   "display_name": "Python 3",
   "language": "python",
   "name": "python3"
  },
  "language_info": {
   "codemirror_mode": {
    "name": "ipython",
    "version": 3
   },
   "file_extension": ".py",
   "mimetype": "text/x-python",
   "name": "python",
   "nbconvert_exporter": "python",
   "pygments_lexer": "ipython3",
   "version": "3.8.2"
  }
 },
 "nbformat": 4,
 "nbformat_minor": 4
}
